{
 "cells": [
  {
   "cell_type": "markdown",
   "metadata": {},
   "source": [
    "# Assingment 4 Testing and Stuff"
   ]
  },
  {
   "cell_type": "markdown",
   "metadata": {},
   "source": [
    "$H(s)= - \\sum_{i, j} J_{i, j} * s_i * s_j$"
   ]
  },
  {
   "cell_type": "markdown",
   "metadata": {},
   "source": [
    "First step: load in data and interpret '+' and '-' as +1 and -1"
   ]
  },
  {
   "cell_type": "code",
   "execution_count": 1,
   "metadata": {},
   "outputs": [
    {
     "data": {
      "text/plain": [
       "array([[-1.,  1., -1.,  1.],\n",
       "       [ 1.,  1.,  1.,  1.],\n",
       "       [ 1., -1.,  1.,  1.],\n",
       "       ...,\n",
       "       [ 1.,  1.,  1.,  1.],\n",
       "       [ 1., -1.,  1.,  1.],\n",
       "       [-1.,  1., -1., -1.]])"
      ]
     },
     "execution_count": 1,
     "metadata": {},
     "output_type": "execute_result"
    }
   ],
   "source": [
    "import numpy as np\n",
    "import os\n",
    "\n",
    "cwd = os.getcwd()\n",
    "ass_dir = cwd.rsplit('\\\\', maxsplit=1)[0]\n",
    "\n",
    "#import\n",
    "pm_data_str = np.loadtxt(os.path.join(ass_dir, r'data\\in.txt'), dtype=str)\n",
    "\n",
    "# separate string into characters\n",
    "pm_data_sep = np.empty((pm_data_str.shape[0], len(pm_data_str[0])), dtype=str)\n",
    "for i in range(len(pm_data_str)):\n",
    "    pm_data_sep[i] = list(pm_data_str[i])\n",
    "\n",
    "# locations of plus minus\n",
    "p_loc = np.where(pm_data_sep == '+')\n",
    "m_loc = np.where(pm_data_sep == '-')\n",
    "\n",
    "# convert plus/minus to +1/-1\n",
    "pm_data = np.empty(pm_data_sep.shape)\n",
    "pm_data[p_loc] = 1.\n",
    "pm_data[m_loc] = -1.\n",
    "pm_data"
   ]
  },
  {
   "cell_type": "markdown",
   "metadata": {},
   "source": [
    "The whole layout of this assignment is as follows:\n",
    "1. Build Ising model that has a $\\lambda_{i,j}$ which is the weights between nearest neighbours\n",
    "2. Randomly (seeded) generate intial weights between -1 and 1 based on the size of Ising model (N weights for N atoms)\n",
    "3. Use model to generate as many smaples as there are in the in.txt\n",
    "4. Use model outputs and in.txt to compute gradient as follows:\n",
    "$$\n",
    "-\\frac{\\partial}{\\partial \\lambda_{i,j}} Loss (\\lambda) = <s_i s_j>_D - <s_i s_j>_\\lambda\n",
    "$$\n",
    "Where $s_i$ is the spin at particular location and you are averaging over the whole data set and generated set\n",
    "5. Use the above gradient to update the weights of the model\n",
    "6. Repeat steps 3-5 until model reaches the correct weights, $L$\n",
    "\n",
    "\n",
    "Next we'll calcualte the average across the dataset"
   ]
  },
  {
   "cell_type": "code",
   "execution_count": 4,
   "metadata": {},
   "outputs": [
    {
     "data": {
      "text/plain": [
       "{(0, 1): -0.54, (1, 2): 0.466, (2, 3): 0.436, (3, 0): 0.454}"
      ]
     },
     "execution_count": 4,
     "metadata": {},
     "output_type": "execute_result"
    }
   ],
   "source": [
    "data_avg = {}\n",
    "for j in range(pm_data.shape[1]):\n",
    "    if j != pm_data.shape[1] - 1:\n",
    "        data_avg[(j, j+1)] = np.average(pm_data[:, j] * pm_data[:, j+1]) \n",
    "    else:\n",
    "        data_avg[(j, 0)] = np.average(pm_data[:, j] * pm_data[:, 0]) \n",
    "\n",
    "data_avg"
   ]
  },
  {
   "cell_type": "markdown",
   "metadata": {},
   "source": [
    "The above roughly equals the {(0, 1): -1, (1, 2): 1, (2, 3): 1, (3, 0): 1} given to us as the true weights that produced the data set. This makes sense as those weights influence the monte carlo outputs. If it was truly random then we would expect ~0 for all.\n",
    "\n",
    "Now we need to implement a 1D Ising model of size N"
   ]
  },
  {
   "cell_type": "code",
   "execution_count": null,
   "metadata": {},
   "outputs": [],
   "source": [
    "class Ising1D():\n",
    "    '''\n",
    "    1D Ising model class.\n",
    "    '''\n",
    "    def __init__(self, N, num_samples, seed=3141):\n",
    "\n",
    "        # set random seed for generating weights\n",
    "        np.random.seed(seed)\n",
    "        self.weights = np.random.uniform(low=-1., high=1., size=N)\n",
    "\n",
    "        self.N = N\n",
    "        self.num_samples = num_samples\n",
    "\n",
    "        # setup the lattices\n",
    "        self.generate_lattices\n",
    "        \n",
    "\n",
    "    def generate_lattices(self) -> np.ndarray:\n",
    "        '''Generates num_samples amount of 1D lattices of shape N'''\n",
    "        self.lattices = (np.random.randint(0, 2, size=(self.num_samples, self.N)) * 2) - 1\n",
    "\n",
    "    def equilibrium(self, flips_per_site=100):\n",
    "        '''\n",
    "        Lets each lattice go to equilibrium\n",
    "\n",
    "        Params\n",
    "        ---\n",
    "        flips_per_site - average number of flips per site\n",
    "        '''\n",
    "        tot_flips = self.N * flips_per_site # total number of flips\n",
    "\n",
    "        # random indices to attempt to flip\n",
    "        rand_j = np.random.randint(low=0, high=self.N, size=(self.num_samples, tot_flips))\n",
    "\n",
    "        # outer loop goes through each lattice, letting each go to equilibrium\n",
    "        for i in range(self.num_samples):\n",
    "\n",
    "            # loop through the random indices trying to flip\n",
    "            for j in rand_j[i, :]:\n",
    "                # calculate current and new energy at indice j\n",
    "                current, new = self.get_energy_difference(j)\n",
    "\n",
    "                # comparing energies\n",
    "                if current >= new:\n",
    "                    # keep spin if improved or stayed same\n",
    "                    self.lattices[i, j] = self.lattices[i, j] * -1\n",
    "\n",
    "                if current < new:\n",
    "                    # using metropolis algorithm we sometimes take this option\n",
    "                    if np.random.random(1)[0] < np.exp(-(new - current)):\n",
    "                        self.lattices[i, j] = self.lattices[i, j] * -1\n",
    "\n",
    "    def get_energy_difference(self, i, j):\n",
    "        '''Calculates and returns current and new energy at location j in lattice i'''\n",
    "\n",
    "        # sum contributions from adjacent spins\n",
    "        current = self.lattices[i, j] * self.lattices[i, j-1] * self.weights[j-1] * -1\n",
    "        current += self.lattices[i, j] * self.lattices[i, (1+j-self.size)] * self.weights[1+j-self.size] * -1\n",
    "        new = current * -1 # flipping of j is simply multiplying by negative 1\n",
    "\n",
    "        return current, new\n"
   ]
  },
  {
   "cell_type": "markdown",
   "metadata": {},
   "source": []
  },
  {
   "cell_type": "code",
   "execution_count": 28,
   "metadata": {},
   "outputs": [
    {
     "name": "stdout",
     "output_type": "stream",
     "text": [
      "[-0.81941063  0.24702744 -0.20529057  0.66773735]\n",
      "[ 0.68225318 -0.50259277 -0.57604001  0.58553827]\n",
      "[ 0.81180796 -0.13352774 -0.85147106  0.80848687]\n"
     ]
    }
   ],
   "source": [
    "np.random.seed(3141)\n",
    "weights = np.random.uniform(low=-1., high=1., size=4)\n",
    "print(weights)\n",
    "print(np.random.uniform(low=-1., high=1., size=4))\n",
    "print(np.random.uniform(low=-1., high=1., size=4))\n"
   ]
  },
  {
   "cell_type": "code",
   "execution_count": 26,
   "metadata": {},
   "outputs": [
    {
     "data": {
      "text/plain": [
       "array([[-1,  1,  1, -1],\n",
       "       [ 1,  1,  1,  1],\n",
       "       [-1,  1, -1, -1],\n",
       "       [ 1, -1,  1,  1],\n",
       "       [-1, -1, -1,  1],\n",
       "       [ 1, -1, -1,  1],\n",
       "       [ 1, -1,  1,  1],\n",
       "       [ 1, -1,  1,  1],\n",
       "       [-1, -1, -1,  1],\n",
       "       [ 1,  1, -1, -1]])"
      ]
     },
     "execution_count": 26,
     "metadata": {},
     "output_type": "execute_result"
    }
   ],
   "source": [
    "(np.random.randint(0, 2, size=(10, 4)) * 2) -1"
   ]
  },
  {
   "cell_type": "code",
   "execution_count": null,
   "metadata": {},
   "outputs": [],
   "source": []
  }
 ],
 "metadata": {
  "kernelspec": {
   "display_name": "Python 3.9.13 ('.venv': venv)",
   "language": "python",
   "name": "python3"
  },
  "language_info": {
   "codemirror_mode": {
    "name": "ipython",
    "version": 3
   },
   "file_extension": ".py",
   "mimetype": "text/x-python",
   "name": "python",
   "nbconvert_exporter": "python",
   "pygments_lexer": "ipython3",
   "version": "3.9.13"
  },
  "orig_nbformat": 4,
  "vscode": {
   "interpreter": {
    "hash": "42d2056ab37e996ff35e746a5efbc6c2c6f0fb4a0a2b12ddc8157cd8944c4c9f"
   }
  }
 },
 "nbformat": 4,
 "nbformat_minor": 2
}
