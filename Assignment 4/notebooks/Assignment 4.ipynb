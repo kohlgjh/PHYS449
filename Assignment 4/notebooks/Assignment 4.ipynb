{
 "cells": [
  {
   "cell_type": "markdown",
   "metadata": {},
   "source": [
    "# Assingment 4 Testing and Stuff"
   ]
  },
  {
   "cell_type": "markdown",
   "metadata": {},
   "source": [
    "$H(s)= - \\sum_{i, j} J_{i, j} * s_i * s_j$"
   ]
  },
  {
   "cell_type": "markdown",
   "metadata": {},
   "source": [
    "First step: load in data and interpret '+' and '-' as +1 and -1"
   ]
  },
  {
   "cell_type": "code",
   "execution_count": 30,
   "metadata": {},
   "outputs": [
    {
     "data": {
      "text/plain": [
       "array([[-1.,  1., -1.,  1.],\n",
       "       [ 1.,  1.,  1.,  1.],\n",
       "       [ 1., -1.,  1.,  1.],\n",
       "       ...,\n",
       "       [ 1.,  1.,  1.,  1.],\n",
       "       [ 1., -1.,  1.,  1.],\n",
       "       [-1.,  1., -1., -1.]])"
      ]
     },
     "execution_count": 30,
     "metadata": {},
     "output_type": "execute_result"
    }
   ],
   "source": [
    "import numpy as np\n",
    "import os\n",
    "\n",
    "cwd = os.getcwd()\n",
    "ass_dir = cwd.rsplit('\\\\', maxsplit=1)[0]\n",
    "\n",
    "#import\n",
    "pm_data_str = np.loadtxt(os.path.join(ass_dir, r'data\\in.txt'), dtype=str)\n",
    "\n",
    "# separate string into characters\n",
    "pm_data_sep = np.empty((pm_data_str.shape[0], len(pm_data_str[0])), dtype=str)\n",
    "for i in range(len(pm_data_str)):\n",
    "    pm_data_sep[i] = list(pm_data_str[i])\n",
    "\n",
    "# locations of plus minus\n",
    "p_loc = np.where(pm_data_sep == '+')\n",
    "m_loc = np.where(pm_data_sep == '-')\n",
    "\n",
    "# convert plus/minus to +1/-1\n",
    "pm_data = np.empty(pm_data_sep.shape)\n",
    "pm_data[p_loc] = 1.\n",
    "pm_data[m_loc] = -1.\n",
    "pm_data"
   ]
  },
  {
   "cell_type": "code",
   "execution_count": 26,
   "metadata": {},
   "outputs": [
    {
     "data": {
      "text/plain": [
       "(1000,)"
      ]
     },
     "execution_count": 26,
     "metadata": {},
     "output_type": "execute_result"
    }
   ],
   "source": [
    "len(pm_data_str[0])\n",
    "pm_data_str.shape"
   ]
  },
  {
   "cell_type": "markdown",
   "metadata": {},
   "source": []
  }
 ],
 "metadata": {
  "kernelspec": {
   "display_name": "Python 3.9.13 ('.venv': venv)",
   "language": "python",
   "name": "python3"
  },
  "language_info": {
   "codemirror_mode": {
    "name": "ipython",
    "version": 3
   },
   "file_extension": ".py",
   "mimetype": "text/x-python",
   "name": "python",
   "nbconvert_exporter": "python",
   "pygments_lexer": "ipython3",
   "version": "3.9.13"
  },
  "orig_nbformat": 4,
  "vscode": {
   "interpreter": {
    "hash": "5936b05b2f6d421ee829c4f37ac1eb5ab64daab4b03f50bfc2f667fe1fc141e3"
   }
  }
 },
 "nbformat": 4,
 "nbformat_minor": 2
}
