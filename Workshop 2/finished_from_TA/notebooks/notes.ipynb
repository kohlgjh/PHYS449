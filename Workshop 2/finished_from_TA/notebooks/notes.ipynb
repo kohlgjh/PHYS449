{
 "cells": [
  {
   "cell_type": "markdown",
   "metadata": {},
   "source": [
    "So we have our input layer of N random bits. \n",
    "We have a hidden layer that is also of N. This is \n",
    "$$\n",
    "f(w^Tx+b)=h\n",
    "$$\n",
    "Where x, b, and h, are vectors\n",
    "\n",
    "Layer 2 is a compression layer having only one node. It will be a sigmoid because we are doing binary classification."
   ]
  },
  {
   "cell_type": "markdown",
   "metadata": {},
   "source": []
  }
 ],
 "metadata": {
  "kernelspec": {
   "display_name": "Python 3.9.13 ('.venv': venv)",
   "language": "python",
   "name": "python3"
  },
  "language_info": {
   "name": "python",
   "version": "3.9.13"
  },
  "orig_nbformat": 4,
  "vscode": {
   "interpreter": {
    "hash": "5936b05b2f6d421ee829c4f37ac1eb5ab64daab4b03f50bfc2f667fe1fc141e3"
   }
  }
 },
 "nbformat": 4,
 "nbformat_minor": 2
}
