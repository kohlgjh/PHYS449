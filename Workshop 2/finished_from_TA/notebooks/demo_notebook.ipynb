{
 "cells": [
  {
   "cell_type": "code",
   "execution_count": 3,
   "metadata": {},
   "outputs": [],
   "source": [
    "import numpy as np"
   ]
  },
  {
   "cell_type": "code",
   "execution_count": 4,
   "metadata": {},
   "outputs": [],
   "source": [
    "n_training_data = int(2e2)\n",
    "n_bits = 8"
   ]
  },
  {
   "cell_type": "code",
   "execution_count": 5,
   "metadata": {},
   "outputs": [],
   "source": [
    "x_train = np.random.randint(2, size = (n_training_data, n_bits))\n",
    "x_train = np.array(x_train, dtype = np.float32)\n",
    "y_train = np.array([np.sum(x) % 2 for x in x_train], dtype = np.float32)\n",
    "\n",
    "# Float32: Pytorch gives preference for this type instead of Float64 (I believe Float32 is optimal for GPUs...)"
   ]
  },
  {
   "cell_type": "code",
   "execution_count": 6,
   "metadata": {},
   "outputs": [
    {
     "name": "stdout",
     "output_type": "stream",
     "text": [
      "[[0. 1. 0. 1. 1. 1. 0. 1.]\n",
      " [0. 0. 0. 1. 1. 0. 0. 0.]]\n",
      "[1. 0.]\n"
     ]
    }
   ],
   "source": [
    "print(x_train[0:2]) # first two entries\n",
    "print(y_train[0:2])"
   ]
  },
  {
   "cell_type": "code",
   "execution_count": 7,
   "metadata": {},
   "outputs": [],
   "source": [
    "import torch\n",
    "import torch.nn as nn # layer types\n",
    "import torch.nn.functional as func # useful ML functions (activations) that are applied to layers"
   ]
  },
  {
   "cell_type": "markdown",
   "metadata": {},
   "source": [
    "Defining a network as an objecct here"
   ]
  },
  {
   "cell_type": "code",
   "execution_count": 9,
   "metadata": {},
   "outputs": [],
   "source": [
    "class Net(nn.Module):\n",
    "    def __init__(self):\n",
    "        super(Net, self).__init__() \n",
    "        # super gives access to attributes in a superclass from the subclass that inherits from it\n",
    "        self.fc1= nn.Linear(n_bits, 150) # fully connected 1\n",
    "        self.fc2= nn.Linear(150, 1) # fully connected 2 - compression step\n",
    "\n",
    "    def forward(self, x): # x is the input vector here\n",
    "        h = func.relu(self.fc1(x)) # activation function on first layer\n",
    "        y = torch.sigmoid(self.fc2(h)) # binary classification: sigmoid!\n",
    "        return y\n",
    "    \n",
    "    def reset(self):\n",
    "        self.fc1.reset_parameters()\n",
    "        self.fc2.reset_parameters()"
   ]
  },
  {
   "cell_type": "markdown",
   "metadata": {},
   "source": [
    "Choosing where to run your training"
   ]
  },
  {
   "cell_type": "code",
   "execution_count": 10,
   "metadata": {},
   "outputs": [],
   "source": [
    "model = Net().to(torch.device(\"cpu\")) # inheritance!"
   ]
  },
  {
   "cell_type": "code",
   "execution_count": 11,
   "metadata": {},
   "outputs": [],
   "source": [
    "import torch.optim as optim\n",
    "learning_rate = 2e-1"
   ]
  },
  {
   "cell_type": "markdown",
   "metadata": {},
   "source": [
    "Says stochastic but based on our inputs it won't be.\n",
    "\n",
    "`model.parameters()` is inherited"
   ]
  },
  {
   "cell_type": "code",
   "execution_count": 12,
   "metadata": {},
   "outputs": [],
   "source": [
    "optimizer = optim.SGD(model.parameters(), lr=learning_rate) # not really going to do SGD..."
   ]
  },
  {
   "cell_type": "markdown",
   "metadata": {},
   "source": [
    "converting numpy array to pytorch tensor"
   ]
  },
  {
   "cell_type": "code",
   "execution_count": 13,
   "metadata": {},
   "outputs": [],
   "source": [
    "inputs = torch.from_numpy(x_train)"
   ]
  },
  {
   "cell_type": "markdown",
   "metadata": {},
   "source": [
    "Targets are our y outputs of the training data.\n",
    "Now we add another dimension just to interface properly with the other tensors."
   ]
  },
  {
   "cell_type": "code",
   "execution_count": 14,
   "metadata": {},
   "outputs": [
    {
     "name": "stdout",
     "output_type": "stream",
     "text": [
      "torch.Size([200])\n",
      "torch.Size([200, 1])\n"
     ]
    }
   ],
   "source": [
    "targets = torch.from_numpy(y_train) # need an extra \"superfluous\" dimension\n",
    "print(targets.size()) \n",
    "targets = torch.reshape(targets, (-1, 1))\n",
    "print(targets.size()) "
   ]
  },
  {
   "cell_type": "code",
   "execution_count": 15,
   "metadata": {},
   "outputs": [
    {
     "data": {
      "text/plain": [
       "torch.Size([200, 8])"
      ]
     },
     "execution_count": 15,
     "metadata": {},
     "output_type": "execute_result"
    }
   ],
   "source": [
    "inputs.size()"
   ]
  },
  {
   "cell_type": "code",
   "execution_count": 20,
   "metadata": {},
   "outputs": [
    {
     "data": {
      "text/plain": [
       "torch.Size([200, 1])"
      ]
     },
     "execution_count": 20,
     "metadata": {},
     "output_type": "execute_result"
    }
   ],
   "source": [
    "model.forward(inputs).size()"
   ]
  },
  {
   "cell_type": "markdown",
   "metadata": {},
   "source": [
    "Different kinds of loss functions. Here is binary cross-entropy loss function. 2nd line compares our network output and our training output"
   ]
  },
  {
   "cell_type": "code",
   "execution_count": 22,
   "metadata": {},
   "outputs": [
    {
     "data": {
      "text/plain": [
       "tensor(0.6931, grad_fn=<BinaryCrossEntropyBackward0>)"
      ]
     },
     "execution_count": 22,
     "metadata": {},
     "output_type": "execute_result"
    }
   ],
   "source": [
    "loss = torch.nn.BCELoss(reduction='mean')\n",
    "loss(model.forward(inputs), targets)"
   ]
  },
  {
   "cell_type": "markdown",
   "metadata": {},
   "source": [
    "epochs is the number of training steps we take. We only display the loss every 1000"
   ]
  },
  {
   "cell_type": "code",
   "execution_count": 23,
   "metadata": {},
   "outputs": [],
   "source": [
    "num_epochs = int(1e4)\n",
    "display_epochs = int(1e3)"
   ]
  },
  {
   "cell_type": "code",
   "execution_count": 24,
   "metadata": {},
   "outputs": [
    {
     "name": "stdout",
     "output_type": "stream",
     "text": [
      "Epoch [1000/10000]\tLoss: 0.2104\n",
      "Epoch [2000/10000]\tLoss: 0.0583\n",
      "Epoch [3000/10000]\tLoss: 0.0261\n",
      "Epoch [4000/10000]\tLoss: 0.0153\n",
      "Epoch [5000/10000]\tLoss: 0.0104\n",
      "Epoch [6000/10000]\tLoss: 0.0077\n",
      "Epoch [7000/10000]\tLoss: 0.0060\n",
      "Epoch [8000/10000]\tLoss: 0.0049\n",
      "Epoch [9000/10000]\tLoss: 0.0041\n",
      "Epoch [10000/10000]\tLoss: 0.0035\n"
     ]
    }
   ],
   "source": [
    "obj_vals= []\n",
    "\n",
    "for epoch in range(num_epochs):   \n",
    "    obj_val = loss(model.forward(inputs), targets)\n",
    "    \n",
    "    optimizer.zero_grad() # clear any previous gradients\n",
    "    obj_val.backward() # backprop step, calculates gradient values\n",
    "    optimizer.step() # apply gradients to model parameters\n",
    "    \n",
    "    obj_vals.append(obj_val.item())\n",
    "    if (epoch+1) % display_epochs == 0:\n",
    "        print ('Epoch [{}/{}]\\tLoss: {:.4f}'.format(epoch+1, num_epochs, obj_val.item()))"
   ]
  },
  {
   "cell_type": "code",
   "execution_count": 25,
   "metadata": {},
   "outputs": [],
   "source": [
    "import matplotlib.pyplot as plt\n",
    "import seaborn as sns\n",
    "sns.set_style(\"darkgrid\")\n",
    "from jupyterthemes import jtplot\n",
    "jtplot.style(theme='monokai')"
   ]
  },
  {
   "cell_type": "code",
   "execution_count": 26,
   "metadata": {},
   "outputs": [
    {
     "data": {
      "image/png": "[encoded data removed]",
      "text/plain": [
       "<Figure size 640x560 with 1 Axes>"
      ]
     },
     "metadata": {},
     "output_type": "display_data"
    }
   ],
   "source": [
    "plt.plot(range(num_epochs), obj_vals)\n",
    "plt.show()"
   ]
  },
  {
   "cell_type": "markdown",
   "metadata": {},
   "source": [
    "Test data performs worse because it hasn't come across these specific combos before"
   ]
  },
  {
   "cell_type": "code",
   "execution_count": 29,
   "metadata": {},
   "outputs": [
    {
     "name": "stdout",
     "output_type": "stream",
     "text": [
      "tensor(0.2475)\n"
     ]
    }
   ],
   "source": [
    "n_test_data = int(1e2)\n",
    "x_test = np.random.randint(2, size = (n_test_data, n_bits))\n",
    "x_test = np.array(x_test, dtype = np.float32)\n",
    "y_test = np.array([np.sum(x) % 2 for x in x_test], dtype = np.float32)\n",
    "\n",
    "with torch.no_grad(): # stops all gradient calculations to make it faster\n",
    "    inputs = torch.from_numpy(x_test)\n",
    "    targets = torch.from_numpy(y_test)\n",
    "    targets = torch.reshape(targets, (-1, 1))\n",
    "    cross_val = loss(model.forward(inputs), targets)\n",
    "    \n",
    "print(cross_val)"
   ]
  },
  {
   "cell_type": "markdown",
   "metadata": {},
   "source": [
    "Training and testing in one loop"
   ]
  },
  {
   "cell_type": "code",
   "execution_count": 31,
   "metadata": {},
   "outputs": [
    {
     "name": "stdout",
     "output_type": "stream",
     "text": [
      "Epoch [1000/10000]\t Training Loss: 0.2867\n",
      "Epoch [1000/10000]\t Test Loss: 0.5666\n",
      "Epoch [2000/10000]\t Training Loss: 0.0826\n",
      "Epoch [2000/10000]\t Test Loss: 0.3882\n",
      "Epoch [3000/10000]\t Training Loss: 0.0327\n",
      "Epoch [3000/10000]\t Test Loss: 0.3410\n",
      "Epoch [4000/10000]\t Training Loss: 0.0179\n",
      "Epoch [4000/10000]\t Test Loss: 0.3270\n",
      "Epoch [5000/10000]\t Training Loss: 0.0116\n",
      "Epoch [5000/10000]\t Test Loss: 0.3239\n",
      "Epoch [6000/10000]\t Training Loss: 0.0084\n",
      "Epoch [6000/10000]\t Test Loss: 0.3230\n",
      "Epoch [7000/10000]\t Training Loss: 0.0064\n",
      "Epoch [7000/10000]\t Test Loss: 0.3228\n",
      "Epoch [8000/10000]\t Training Loss: 0.0051\n",
      "Epoch [8000/10000]\t Test Loss: 0.3229\n",
      "Epoch [9000/10000]\t Training Loss: 0.0043\n",
      "Epoch [9000/10000]\t Test Loss: 0.3228\n",
      "Epoch [10000/10000]\t Training Loss: 0.0036\n",
      "Epoch [10000/10000]\t Test Loss: 0.3229\n",
      "Final training loss: 0.0036\n",
      "Final test loss: 0.3229\n"
     ]
    }
   ],
   "source": [
    "obj_vals= []\n",
    "cross_vals= []\n",
    "\n",
    "model.reset() # reset your parameters\n",
    "\n",
    "for epoch in range(num_epochs):\n",
    "    inputs = torch.from_numpy(x_train)\n",
    "    targets = torch.from_numpy(y_train)\n",
    "    targets = torch.reshape(targets, (-1, 1))\n",
    "\n",
    "    obj_val = loss(model.forward(inputs), targets)\n",
    "    \n",
    "    optimizer.zero_grad()\n",
    "    obj_val.backward()\n",
    "    optimizer.step()\n",
    "    obj_vals.append(obj_val.item())\n",
    "\n",
    "    if (epoch+1) % display_epochs == 0:\n",
    "        print ('Epoch [{}/{}]\\t Training Loss: {:.4f}'.format(epoch+1, num_epochs, obj_val.item()))\n",
    "            \n",
    "    # as it trains check how well it tests\n",
    "    with torch.no_grad(): \n",
    "        # don't track calculations in the following scope for the purposes of gradients\n",
    "        inputs = torch.from_numpy(x_test)\n",
    "        targets = torch.from_numpy(y_test)\n",
    "        targets = torch.reshape(targets, (-1, 1))\n",
    "        cross_val = loss(model.forward(inputs), targets)\n",
    "        cross_vals.append(cross_val)\n",
    "\n",
    "    if (epoch+1) % display_epochs == 0:\n",
    "        print ('Epoch [{}/{}]\\t Test Loss: {:.4f}'.format(epoch+1, num_epochs, cross_val.item()))\n",
    "        \n",
    "print('Final training loss: {:.4f}'.format(obj_vals[-1]))\n",
    "print('Final test loss: {:.4f}'.format(cross_vals[-1]))"
   ]
  },
  {
   "cell_type": "code",
   "execution_count": 32,
   "metadata": {},
   "outputs": [
    {
     "data": {
      "text/plain": [
       "<matplotlib.legend.Legend at 0x1aa0f2e4fa0>"
      ]
     },
     "execution_count": 32,
     "metadata": {},
     "output_type": "execute_result"
    },
    {
     "data": {
      "image/png": "[encoded data removed]",
      "text/plain": [
       "<Figure size 640x560 with 1 Axes>"
      ]
     },
     "metadata": {},
     "output_type": "display_data"
    }
   ],
   "source": [
    "plt.plot(range(num_epochs), obj_vals, label= \"Training loss\", color=\"orange\")\n",
    "plt.plot(range(num_epochs), cross_vals, label= \"Test loss\", color= \"green\")\n",
    "plt.legend()"
   ]
  },
  {
   "cell_type": "markdown",
   "metadata": {},
   "source": [
    "This kind of plot (plus few sentances) is the \"report\" we need for assignment 2. One suggestion is to have a pdf of the plot in a results folders."
   ]
  },
  {
   "cell_type": "code",
   "execution_count": null,
   "metadata": {},
   "outputs": [],
   "source": []
  }
 ],
 "metadata": {
  "kernelspec": {
   "display_name": "Python 3.9.13 ('.venv': venv)",
   "language": "python",
   "name": "python3"
  },
  "language_info": {
   "codemirror_mode": {
    "name": "ipython",
    "version": 3
   },
   "file_extension": ".py",
   "mimetype": "text/x-python",
   "name": "python",
   "nbconvert_exporter": "python",
   "pygments_lexer": "ipython3",
   "version": "3.9.13"
  },
  "vscode": {
   "interpreter": {
    "hash": "5936b05b2f6d421ee829c4f37ac1eb5ab64daab4b03f50bfc2f667fe1fc141e3"
   }
  }
 },
 "nbformat": 4,
 "nbformat_minor": 2
}
