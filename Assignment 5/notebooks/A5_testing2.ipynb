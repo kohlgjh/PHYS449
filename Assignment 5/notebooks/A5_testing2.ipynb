{
 "cells": [
  {
   "cell_type": "markdown",
   "metadata": {},
   "source": [
    "# Assignment 5 - Testing"
   ]
  },
  {
   "cell_type": "markdown",
   "metadata": {},
   "source": [
    "### Step 1 - Data Import"
   ]
  },
  {
   "cell_type": "code",
   "execution_count": 1,
   "metadata": {},
   "outputs": [
    {
     "name": "stdout",
     "output_type": "stream",
     "text": [
      "Shape of input data: (29492, 14, 14)\n"
     ]
    },
    {
     "data": {
      "image/png": "[encoded data removed]",
      "text/plain": [
       "<Figure size 640x480 with 1 Axes>"
      ]
     },
     "metadata": {},
     "output_type": "display_data"
    }
   ],
   "source": [
    "import numpy as np\n",
    "import os\n",
    "import matplotlib.pyplot as plt\n",
    "\n",
    "cwd = os.getcwd()\n",
    "ass_dir = cwd.rsplit('\\\\', maxsplit=1)[0]\n",
    "\n",
    "raw_data = np.loadtxt(os.path.join(ass_dir, r'data\\even_mnist.csv'), dtype=str)\n",
    "\n",
    "# separate label from images\n",
    "input = raw_data[:, :-1]\n",
    "label = raw_data[:, -1:]\n",
    "\n",
    "# reshape the flattened images into 2D\n",
    "input = input.reshape((len(label), 14, 14)).astype(int)\n",
    "print(\"Shape of input data:\", input.shape)\n",
    "\n",
    "# take a look at a digit\n",
    "plt.style.use('default')\n",
    "plt.imshow(input[2001])\n",
    "plt.show()"
   ]
  },
  {
   "cell_type": "markdown",
   "metadata": {},
   "source": [
    "### Step 2 - Setup Encoder Portion"
   ]
  },
  {
   "cell_type": "code",
   "execution_count": 2,
   "metadata": {},
   "outputs": [],
   "source": [
    "import torch\n",
    "import torch.nn as nn\n",
    "\n",
    "# define latent size for tuning purposes\n",
    "latent_size = 20\n",
    "kernal_size = 3\n",
    "\n",
    "class Encoder(nn.Module):\n",
    "    def __init__(self) -> None:\n",
    "        super().__init__()\n",
    "        self.con_layer1 = nn.Conv2d(1, 7, 3, padding=1, stride=2) # we only have one input channel (i.e. non-RGB)\n",
    "        self.batch = nn.BatchNorm2d(7)\n",
    "        self.con_layer2 = nn.Conv2d(7, 14, 3, padding=0, stride=1)\n",
    "        self.lin1 = nn.Linear(3*14, 49) # linear layer after convolutions\n",
    "        self.lin_mu = nn.Linear(49, latent_size) # layer for mu\n",
    "        self.lin_sigma = nn.Linear(49, latent_size) # layer for sigma\n",
    "\n",
    "        # initialize KL for now\n",
    "        self.kl = 0\n",
    "\n",
    "    def forward(self, x):\n",
    "        # first convolution layer\n",
    "        x = self.con_layer1(x)\n",
    "        x = nn.ReLU(x)\n",
    "\n",
    "        # batch layer\n",
    "        x = self.batch(x)\n",
    "        x = nn.ReLU(x)\n",
    "\n",
    "        # second convolution layer\n",
    "        x = self.con_layer2(x)\n",
    "        x = nn.ReLU(x)\n",
    "\n",
    "        # flatten and send to lienar layers\n",
    "        x = torch.flatten(x, start_dim=1)\n",
    "        x = self.lin1(x)\n",
    "        x = nn.ReLU(x)\n",
    "\n",
    "        # separate layers for mu and sigma\n",
    "        mu = self.lin_mu(x)\n",
    "        log_sigma = self.lin_sigma(x)\n",
    "        sigma = torch.exp(log_sigma)\n",
    "\n",
    "        # combine sigma and mu to produce z\n",
    "        z = sigma*torch.distributions.Normal(0, 1).sample(mu.shape) + mu\\\n",
    "        \n",
    "        # KL metric\n",
    "        self.kl = -0.5 * torch.sum(1 + log_sigma - mu.pow(2) - sigma.pow(2))\n",
    "\n",
    "        return z"
   ]
  },
  {
   "cell_type": "code",
   "execution_count": null,
   "metadata": {},
   "outputs": [],
   "source": []
  }
 ],
 "metadata": {
  "kernelspec": {
   "display_name": "Python 3.9.13 ('.venv': venv)",
   "language": "python",
   "name": "python3"
  },
  "language_info": {
   "codemirror_mode": {
    "name": "ipython",
    "version": 3
   },
   "file_extension": ".py",
   "mimetype": "text/x-python",
   "name": "python",
   "nbconvert_exporter": "python",
   "pygments_lexer": "ipython3",
   "version": "3.9.13"
  },
  "orig_nbformat": 4,
  "vscode": {
   "interpreter": {
    "hash": "21e3e09130b141b1946ff20fc683d5b9b11c33d8db188a55f69210dd31c5f84c"
   }
  }
 },
 "nbformat": 4,
 "nbformat_minor": 2
}
