{
 "cells": [
  {
   "cell_type": "markdown",
   "metadata": {},
   "source": [
    "# Assignment 5 - Testing"
   ]
  },
  {
   "cell_type": "markdown",
   "metadata": {},
   "source": [
    "### Step 1 - Data Import"
   ]
  },
  {
   "cell_type": "code",
   "execution_count": 169,
   "metadata": {},
   "outputs": [
    {
     "name": "stdout",
     "output_type": "stream",
     "text": [
      "Shape of input data: (29492, 1, 14, 14)\n",
      "shape = (num_samples, num_channels, image_height, image_width)\n"
     ]
    },
    {
     "data": {
      "image/png": "[encoded data removed]",
      "text/plain": [
       "<Figure size 640x480 with 1 Axes>"
      ]
     },
     "metadata": {},
     "output_type": "display_data"
    }
   ],
   "source": [
    "import numpy as np\n",
    "import os\n",
    "import matplotlib.pyplot as plt\n",
    "\n",
    "cwd = os.getcwd()\n",
    "ass_dir = cwd.rsplit('\\\\', maxsplit=1)[0]\n",
    "\n",
    "raw_data = np.loadtxt(os.path.join(ass_dir, r'data\\even_mnist.csv'), dtype=str)\n",
    "\n",
    "# separate label from images\n",
    "input = raw_data[:, :-1]\n",
    "label = raw_data[:, -1:]\n",
    "\n",
    "# reshape the flattened images into 2D\n",
    "input = input.reshape((len(label), 1, 14, 14)).astype(float)\n",
    "print(\"Shape of input data:\", input.shape)\n",
    "print(\"shape = (num_samples, num_channels, image_height, image_width)\")\n",
    "\n",
    "# take a look at a digit\n",
    "plt.style.use('default')\n",
    "plt.imshow(input[2001][0])\n",
    "plt.show()"
   ]
  },
  {
   "cell_type": "markdown",
   "metadata": {},
   "source": [
    "### Step 1.5 - Figure out sizes for convolutions"
   ]
  },
  {
   "cell_type": "code",
   "execution_count": 170,
   "metadata": {},
   "outputs": [
    {
     "name": "stdout",
     "output_type": "stream",
     "text": [
      "input: torch.Size([1, 14, 14])\n",
      "conv1: torch.Size([7, 7, 7])\n",
      "conv2:  torch.Size([14, 3, 3])\n",
      "deconv1: torch.Size([7, 7, 7])\n",
      "deconv2: torch.Size([1, 14, 14])\n"
     ]
    }
   ],
   "source": [
    "import torch\n",
    "import torch.nn as nn\n",
    "\n",
    "ex_input = torch.randn(1, 14, 14)\n",
    "conv = nn.Conv2d(1, 7, 3, padding=1, stride=2)\n",
    "conv2 = nn.Conv2d(7, 14, 3, padding=0, stride=2)\n",
    "deconv1 = nn.ConvTranspose2d(14, 7, 3, stride=2, output_padding=0)\n",
    "deconv2 = nn.ConvTranspose2d(7, 1, 3, padding=1, stride=2, output_padding=1)\n",
    "\n",
    "step1 = conv(ex_input)\n",
    "step2 = conv2(step1)\n",
    "step3 = deconv1(step2)\n",
    "step4 = deconv2(step3)\n",
    "\n",
    "\n",
    "print(\"input:\", ex_input.shape)\n",
    "print(\"conv1:\", step1.shape)\n",
    "print(\"conv2: \", step2.shape)\n",
    "print(\"deconv1:\", step3.shape)\n",
    "print(\"deconv2:\", step4.shape)"
   ]
  },
  {
   "cell_type": "markdown",
   "metadata": {},
   "source": [
    "### Step 2 - Setup Encoder Portion"
   ]
  },
  {
   "cell_type": "code",
   "execution_count": 171,
   "metadata": {},
   "outputs": [],
   "source": [
    "import torch\n",
    "import torch.nn as nn\n",
    "import torch.nn.functional as F\n",
    "\n",
    "# define latent size for tuning purposes\n",
    "latent_size = 20\n",
    "kernal_size = 3\n",
    "\n",
    "class Encoder(nn.Module):\n",
    "    def __init__(self) -> None:\n",
    "        super().__init__()\n",
    "        self.con_layer1 = nn.Conv2d(1, 7, kernal_size, padding=1, stride=2) # we only have one input channel (i.e. non-RGB)\n",
    "        self.batch = nn.BatchNorm2d(7)\n",
    "        self.con_layer2 = nn.Conv2d(7, 14, kernal_size, padding=0, stride=2)\n",
    "        self.lin1 = nn.Linear(3*3*14, 49) # 14 channels of 3x3 after convolutions\n",
    "        self.lin_mu = nn.Linear(49, latent_size) # layer for mu\n",
    "        self.lin_sigma = nn.Linear(49, latent_size) # layer for sigma\n",
    "\n",
    "        # initialize KL for now\n",
    "        self.kl = 0\n",
    "\n",
    "        # setting up the normal distribution generator\n",
    "        self.normal = torch.distributions.normal.Normal(torch.tensor([0.0]).to(\"cuda\"), torch.tensor([1.0]).to(\"cuda\"))\n",
    "\n",
    "    def forward(self, x):\n",
    "        # first convolution layer\n",
    "        x = self.con_layer1(x)\n",
    "        x = F.relu(x)\n",
    "\n",
    "        # batch layer\n",
    "        x = self.batch(x)\n",
    "        x = F.relu(x)\n",
    "\n",
    "        # second convolution layer\n",
    "        x = self.con_layer2(x)\n",
    "        x = F.relu(x)\n",
    "\n",
    "        # flatten and send to lienar layers\n",
    "        x = torch.flatten(x, start_dim=1)\n",
    "        x = self.lin1(x)\n",
    "        x = F.relu(x)\n",
    "\n",
    "        # separate layers for mu and sigma\n",
    "        mu = self.lin_mu(x)\n",
    "        log_sigma = self.lin_sigma(x)\n",
    "        sigma = torch.exp(log_sigma)\n",
    "\n",
    "        # generate samples from normal distribution\n",
    "        sample = self.normal.sample(mu.shape)\n",
    "        sample = torch.reshape(sample, (10, 20))\n",
    "\n",
    "        # print(\"mu shape:\", mu.shape)\n",
    "        # print(\"log_sigma shape:\", log_sigma.shape)\n",
    "        # print(\"sigma shape:\", sigma.shape)\n",
    "        # print(\"sample shape:\", sample.shape)\n",
    "        # combine sigma and mu to produce z\n",
    "        z = sigma*sample + mu\n",
    "        \n",
    "        # KL metric\n",
    "        self.kl = -0.5 * torch.sum(1 + log_sigma - mu.pow(2) - sigma.pow(2))\n",
    "\n",
    "        return z"
   ]
  },
  {
   "cell_type": "markdown",
   "metadata": {},
   "source": [
    "### Step 3 - Setup Decoder Portion"
   ]
  },
  {
   "cell_type": "code",
   "execution_count": 172,
   "metadata": {},
   "outputs": [],
   "source": [
    "class Decoder(nn.Module):\n",
    "    def __init__(self) -> None:\n",
    "        super().__init__()\n",
    "        # reverse the encoder basically\n",
    "\n",
    "        # linear portion\n",
    "        self.lin1 = nn.Linear(latent_size, 49)\n",
    "        self.lin2 = nn.Linear(49, 3*3*14)\n",
    "\n",
    "        # reshape to 2D\n",
    "        self.reshape2D = nn.Unflatten(dim=1, unflattened_size=(14, 3, 3)) # unflatten to 14 channels of 3x3\n",
    "\n",
    "        # convolutional portion\n",
    "        self.deconv1 = nn.ConvTranspose2d(14, 7, 3, stride=2, output_padding=0)\n",
    "        self.batch = nn.BatchNorm2d(7)\n",
    "        self.deconv2 = nn.ConvTranspose2d(7, 1, 3, padding=1, stride=2, output_padding=1)\n",
    "\n",
    "\n",
    "    def forward(self, z):\n",
    "        # linear portion of decoding - mirrors encoding\n",
    "        z = self.lin1(z)\n",
    "        z = F.relu(z)\n",
    "\n",
    "        z = self.lin2(z)\n",
    "        z = F.relu(z)\n",
    "\n",
    "        # reshape things for convolution\n",
    "        z = self.reshape2D(z)\n",
    "\n",
    "        # convolution in reverse\n",
    "        z = self.deconv1(z)\n",
    "        z = self.batch(z)\n",
    "        z = F.relu(z)\n",
    "        z = self.deconv2(z)\n",
    "\n",
    "        # output needs to be greater than 1 so use sigmoid\n",
    "        z = torch.sigmoid(z)\n",
    "\n",
    "        return z"
   ]
  },
  {
   "cell_type": "markdown",
   "metadata": {},
   "source": [
    "### Step 4 - Combine Encoder and Decoder into VAE"
   ]
  },
  {
   "cell_type": "code",
   "execution_count": 173,
   "metadata": {},
   "outputs": [],
   "source": [
    "class VAE(nn.Module):\n",
    "    def __init__(self) -> None:\n",
    "        super().__init__()\n",
    "        \n",
    "        self.enc = Encoder()\n",
    "        self.dec = Decoder()\n",
    "\n",
    "    def forward(self, x):\n",
    "        z = self.enc.forward(x)\n",
    "        output = self.dec.forward(z)\n",
    "        return output"
   ]
  },
  {
   "cell_type": "markdown",
   "metadata": {},
   "source": [
    "### Step 5 - Test Model Goes Forward"
   ]
  },
  {
   "cell_type": "code",
   "execution_count": 174,
   "metadata": {},
   "outputs": [
    {
     "name": "stdout",
     "output_type": "stream",
     "text": [
      "output shape: (10, 1, 14, 14)\n"
     ]
    },
    {
     "data": {
      "image/png": "[encoded data removed]",
      "text/plain": [
       "<Figure size 640x480 with 1 Axes>"
      ]
     },
     "metadata": {},
     "output_type": "display_data"
    }
   ],
   "source": [
    "torch.manual_seed(1234)\n",
    "\n",
    "vae = VAE().to('cuda')\n",
    "input = torch.from_numpy(input).type(torch.float).to('cuda')\n",
    "\n",
    "output = vae.forward(input[0:10])\n",
    "output_np = output.detach().cpu().numpy()\n",
    "print(\"output shape:\", output_np.shape)\n",
    "plt.imshow(output_np[0][0])\n",
    "plt.show()"
   ]
  },
  {
   "cell_type": "code",
   "execution_count": null,
   "metadata": {},
   "outputs": [],
   "source": []
  }
 ],
 "metadata": {
  "kernelspec": {
   "display_name": "Python 3.9.13 ('.venv': venv)",
   "language": "python",
   "name": "python3"
  },
  "language_info": {
   "codemirror_mode": {
    "name": "ipython",
    "version": 3
   },
   "file_extension": ".py",
   "mimetype": "text/x-python",
   "name": "python",
   "nbconvert_exporter": "python",
   "pygments_lexer": "ipython3",
   "version": "3.9.13"
  },
  "orig_nbformat": 4,
  "vscode": {
   "interpreter": {
    "hash": "42d2056ab37e996ff35e746a5efbc6c2c6f0fb4a0a2b12ddc8157cd8944c4c9f"
   }
  }
 },
 "nbformat": 4,
 "nbformat_minor": 2
}
