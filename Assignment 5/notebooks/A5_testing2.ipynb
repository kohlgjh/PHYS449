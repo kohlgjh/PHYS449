{
 "cells": [
  {
   "cell_type": "markdown",
   "metadata": {},
   "source": [
    "# Assignment 5 - Testing"
   ]
  },
  {
   "cell_type": "markdown",
   "metadata": {},
   "source": [
    "### Step 1 - Data Import"
   ]
  },
  {
   "cell_type": "code",
   "execution_count": 267,
   "metadata": {},
   "outputs": [
    {
     "name": "stdout",
     "output_type": "stream",
     "text": [
      "Shape of input data: (29492, 1, 14, 14)\n",
      "shape = (num_samples, num_channels, image_height, image_width)\n"
     ]
    },
    {
     "data": {
      "image/png": "[encoded data removed]",
      "text/plain": [
       "<Figure size 640x480 with 1 Axes>"
      ]
     },
     "metadata": {},
     "output_type": "display_data"
    }
   ],
   "source": [
    "import numpy as np\n",
    "import os\n",
    "import matplotlib.pyplot as plt\n",
    "\n",
    "cwd = os.getcwd()\n",
    "ass_dir = cwd.rsplit('\\\\', maxsplit=1)[0]\n",
    "\n",
    "raw_data = np.loadtxt(os.path.join(ass_dir, r'data\\even_mnist.csv'), dtype=str)\n",
    "\n",
    "# separate label from images\n",
    "input = raw_data[:, :-1].astype(float)/255\n",
    "label = raw_data[:, -1:].astype(float)\n",
    "\n",
    "# reshape the flattened images into 2D\n",
    "input = input.reshape((len(label), 1, 14, 14))\n",
    "print(\"Shape of input data:\", input.shape)\n",
    "print(\"shape = (num_samples, num_channels, image_height, image_width)\")\n",
    "\n",
    "# take a look at a digit\n",
    "plt.style.use('default')\n",
    "plt.imshow(input[2001][0])\n",
    "plt.show()"
   ]
  },
  {
   "cell_type": "markdown",
   "metadata": {},
   "source": [
    "### Step 1.5 - Figure out sizes for convolutions"
   ]
  },
  {
   "cell_type": "code",
   "execution_count": 268,
   "metadata": {},
   "outputs": [
    {
     "name": "stdout",
     "output_type": "stream",
     "text": [
      "input: torch.Size([1, 14, 14])\n",
      "conv1: torch.Size([7, 7, 7])\n",
      "conv2:  torch.Size([14, 3, 3])\n",
      "deconv1: torch.Size([7, 7, 7])\n",
      "deconv2: torch.Size([1, 14, 14])\n"
     ]
    }
   ],
   "source": [
    "import torch\n",
    "import torch.nn as nn\n",
    "\n",
    "ex_input = torch.randn(1, 14, 14)\n",
    "conv = nn.Conv2d(1, 7, 3, padding=1, stride=2)\n",
    "conv2 = nn.Conv2d(7, 14, 3, padding=0, stride=2)\n",
    "deconv1 = nn.ConvTranspose2d(14, 7, 3, stride=2, output_padding=0)\n",
    "deconv2 = nn.ConvTranspose2d(7, 1, 3, padding=1, stride=2, output_padding=1)\n",
    "\n",
    "step1 = conv(ex_input)\n",
    "step2 = conv2(step1)\n",
    "step3 = deconv1(step2)\n",
    "step4 = deconv2(step3)\n",
    "\n",
    "\n",
    "print(\"input:\", ex_input.shape)\n",
    "print(\"conv1:\", step1.shape)\n",
    "print(\"conv2: \", step2.shape)\n",
    "print(\"deconv1:\", step3.shape)\n",
    "print(\"deconv2:\", step4.shape)"
   ]
  },
  {
   "cell_type": "markdown",
   "metadata": {},
   "source": [
    "### Step 2 - Setup Encoder Portion"
   ]
  },
  {
   "cell_type": "code",
   "execution_count": 269,
   "metadata": {},
   "outputs": [],
   "source": [
    "import torch\n",
    "import torch.nn as nn\n",
    "import torch.nn.functional as F\n",
    "\n",
    "# define latent size for tuning purposes\n",
    "latent_size = 20\n",
    "kernal_size = 3\n",
    "\n",
    "class Encoder(nn.Module):\n",
    "    def __init__(self) -> None:\n",
    "        super().__init__()\n",
    "        self.con_layer1 = nn.Conv2d(1, 7, kernal_size, padding=1, stride=2) # we only have one input channel (i.e. non-RGB)\n",
    "        self.batch = nn.BatchNorm2d(7)\n",
    "        self.con_layer2 = nn.Conv2d(7, 14, kernal_size, padding=0, stride=2)\n",
    "        self.lin1 = nn.Linear(3*3*14, 49) # 14 channels of 3x3 after convolutions\n",
    "        self.lin_mu = nn.Linear(49, latent_size) # layer for mu\n",
    "        self.lin_sigma = nn.Linear(49, latent_size) # layer for sigma\n",
    "\n",
    "        # initialize KL for now\n",
    "        self.kl = 0\n",
    "\n",
    "        # setting up the normal distribution generator\n",
    "        self.normal = torch.distributions.normal.Normal(torch.tensor([0.0]).to(\"cuda\"), torch.tensor([1.0]).to(\"cuda\"))\n",
    "\n",
    "    def forward(self, x):\n",
    "        # first convolution layer\n",
    "        x = self.con_layer1(x)\n",
    "        x = F.relu(x)\n",
    "\n",
    "        # batch layer\n",
    "        x = self.batch(x)\n",
    "        x = F.relu(x)\n",
    "\n",
    "        # second convolution layer\n",
    "        x = self.con_layer2(x)\n",
    "        x = F.relu(x)\n",
    "\n",
    "        # flatten and send to lienar layers\n",
    "        x = torch.flatten(x, start_dim=1)\n",
    "        x = self.lin1(x)\n",
    "        x = F.relu(x)\n",
    "\n",
    "        # separate layers for mu and sigma\n",
    "        mu = self.lin_mu(x)\n",
    "        log_sigma = self.lin_sigma(x)\n",
    "        sigma = torch.exp(log_sigma)\n",
    "\n",
    "        # generate samples from normal distribution\n",
    "        sample = self.normal.sample(mu.shape)\n",
    "        sample = torch.reshape(sample, (sample.shape[0], 20))\n",
    "\n",
    "        # print(\"mu shape:\", mu.shape)\n",
    "        # print(\"log_sigma shape:\", log_sigma.shape)\n",
    "        # print(\"sigma shape:\", sigma.shape)\n",
    "        # print(\"sample shape:\", sample.shape)\n",
    "        # combine sigma and mu to produce z\n",
    "        z = sigma*sample + mu\n",
    "        \n",
    "        # KL metric\n",
    "        self.kl = -0.5 * torch.sum(1 + log_sigma - mu.pow(2) - sigma.pow(2))\n",
    "\n",
    "        return z"
   ]
  },
  {
   "cell_type": "markdown",
   "metadata": {},
   "source": [
    "### Step 3 - Setup Decoder Portion"
   ]
  },
  {
   "cell_type": "code",
   "execution_count": 270,
   "metadata": {},
   "outputs": [],
   "source": [
    "class Decoder(nn.Module):\n",
    "    def __init__(self) -> None:\n",
    "        super().__init__()\n",
    "        # reverse the encoder basically\n",
    "\n",
    "        # linear portion\n",
    "        self.lin1 = nn.Linear(latent_size, 49)\n",
    "        self.lin2 = nn.Linear(49, 3*3*14)\n",
    "\n",
    "        # reshape to 2D\n",
    "        self.reshape2D = nn.Unflatten(dim=1, unflattened_size=(14, 3, 3)) # unflatten to 14 channels of 3x3\n",
    "\n",
    "        # convolutional portion\n",
    "        self.deconv1 = nn.ConvTranspose2d(14, 7, 3, stride=2, output_padding=0)\n",
    "        self.batch = nn.BatchNorm2d(7)\n",
    "        self.deconv2 = nn.ConvTranspose2d(7, 1, 3, padding=1, stride=2, output_padding=1)\n",
    "\n",
    "\n",
    "    def forward(self, z):\n",
    "        # linear portion of decoding - mirrors encoding\n",
    "        z = self.lin1(z)\n",
    "        z = F.relu(z)\n",
    "\n",
    "        z = self.lin2(z)\n",
    "        z = F.relu(z)\n",
    "\n",
    "        # reshape things for convolution\n",
    "        z = self.reshape2D(z)\n",
    "\n",
    "        # convolution in reverse\n",
    "        z = self.deconv1(z)\n",
    "        z = self.batch(z)\n",
    "        z = F.relu(z)\n",
    "        z = self.deconv2(z)\n",
    "\n",
    "        # output needs to be greater than 1 so use sigmoid\n",
    "        z = torch.sigmoid(z)\n",
    "\n",
    "        return z"
   ]
  },
  {
   "cell_type": "markdown",
   "metadata": {},
   "source": [
    "### Step 4 - Combine Encoder and Decoder into VAE"
   ]
  },
  {
   "cell_type": "code",
   "execution_count": 271,
   "metadata": {},
   "outputs": [],
   "source": [
    "class VAE(nn.Module):\n",
    "    def __init__(self) -> None:\n",
    "        super().__init__()\n",
    "        \n",
    "        self.enc = Encoder()\n",
    "        self.dec = Decoder()\n",
    "\n",
    "    def forward(self, x):\n",
    "        z = self.enc.forward(x)\n",
    "        output = self.dec.forward(z)\n",
    "        return output"
   ]
  },
  {
   "cell_type": "markdown",
   "metadata": {},
   "source": [
    "### Step 5 - Test Model Goes Forward"
   ]
  },
  {
   "cell_type": "code",
   "execution_count": 272,
   "metadata": {},
   "outputs": [
    {
     "name": "stdout",
     "output_type": "stream",
     "text": [
      "output shape: (10, 1, 14, 14)\n"
     ]
    },
    {
     "data": {
      "image/png": "[encoded data removed]",
      "text/plain": [
       "<Figure size 640x480 with 1 Axes>"
      ]
     },
     "metadata": {},
     "output_type": "display_data"
    }
   ],
   "source": [
    "torch.manual_seed(1234)\n",
    "\n",
    "vae_model = VAE().to('cuda')\n",
    "input = torch.from_numpy(input).type(torch.float).to('cuda')\n",
    "label = torch.from_numpy(label).type(torch.float).to('cuda')\n",
    "\n",
    "output = vae_model.forward(input[0:10])\n",
    "output_np = output.detach().cpu().numpy()\n",
    "print(\"output shape:\", output_np.shape)\n",
    "plt.imshow(output_np[0][0])\n",
    "plt.show()"
   ]
  },
  {
   "cell_type": "markdown",
   "metadata": {},
   "source": [
    "### Step 6 - Setup Data Loaders"
   ]
  },
  {
   "cell_type": "code",
   "execution_count": 273,
   "metadata": {},
   "outputs": [],
   "source": [
    "batch_size = 200\n",
    "\n",
    "input_set = torch.utils.data.TensorDataset(input, label)\n",
    "input_loader = torch.utils.data.DataLoader(input_set, batch_size=batch_size, shuffle=True)"
   ]
  },
  {
   "cell_type": "markdown",
   "metadata": {},
   "source": [
    "### Step 7 - Train Model"
   ]
  },
  {
   "cell_type": "code",
   "execution_count": 274,
   "metadata": {},
   "outputs": [
    {
     "name": "stdout",
     "output_type": "stream",
     "text": [
      "Epoch 5/300: \t Loss: 12.67\n",
      "Epoch 10/300: \t Loss: 9.98\n",
      "Epoch 15/300: \t Loss: 9.40\n",
      "Epoch 20/300: \t Loss: 9.14\n",
      "Epoch 25/300: \t Loss: 9.03\n",
      "Epoch 30/300: \t Loss: 8.93\n",
      "Epoch 35/300: \t Loss: 8.88\n",
      "Epoch 40/300: \t Loss: 8.81\n",
      "Epoch 45/300: \t Loss: 8.78\n",
      "Epoch 50/300: \t Loss: 8.73\n",
      "Epoch 55/300: \t Loss: 8.71\n",
      "Epoch 60/300: \t Loss: 8.67\n",
      "Epoch 65/300: \t Loss: 8.63\n",
      "Epoch 70/300: \t Loss: 8.63\n",
      "Epoch 75/300: \t Loss: 8.61\n",
      "Epoch 80/300: \t Loss: 8.60\n",
      "Epoch 85/300: \t Loss: 8.56\n",
      "Epoch 90/300: \t Loss: 8.56\n",
      "Epoch 95/300: \t Loss: 8.56\n",
      "Epoch 100/300: \t Loss: 8.54\n",
      "Epoch 105/300: \t Loss: 8.53\n",
      "Epoch 110/300: \t Loss: 8.52\n",
      "Epoch 115/300: \t Loss: 8.52\n",
      "Epoch 120/300: \t Loss: 8.52\n",
      "Epoch 125/300: \t Loss: 8.50\n",
      "Epoch 130/300: \t Loss: 8.50\n",
      "Epoch 135/300: \t Loss: 8.50\n",
      "Epoch 140/300: \t Loss: 8.49\n",
      "Epoch 145/300: \t Loss: 8.48\n",
      "Epoch 150/300: \t Loss: 8.47\n",
      "Epoch 155/300: \t Loss: 8.46\n",
      "Epoch 160/300: \t Loss: 8.48\n",
      "Epoch 165/300: \t Loss: 8.47\n",
      "Epoch 170/300: \t Loss: 8.46\n",
      "Epoch 175/300: \t Loss: 8.46\n",
      "Epoch 180/300: \t Loss: 8.44\n",
      "Epoch 185/300: \t Loss: 8.46\n",
      "Epoch 190/300: \t Loss: 8.44\n",
      "Epoch 195/300: \t Loss: 8.44\n",
      "Epoch 200/300: \t Loss: 8.44\n",
      "Epoch 205/300: \t Loss: 8.44\n",
      "Epoch 210/300: \t Loss: 8.43\n",
      "Epoch 215/300: \t Loss: 8.43\n",
      "Epoch 220/300: \t Loss: 8.42\n",
      "Epoch 225/300: \t Loss: 8.42\n",
      "Epoch 230/300: \t Loss: 8.40\n",
      "Epoch 235/300: \t Loss: 8.41\n",
      "Epoch 240/300: \t Loss: 8.41\n",
      "Epoch 245/300: \t Loss: 8.42\n",
      "Epoch 250/300: \t Loss: 8.41\n",
      "Epoch 255/300: \t Loss: 8.41\n",
      "Epoch 260/300: \t Loss: 8.40\n",
      "Epoch 265/300: \t Loss: 8.42\n",
      "Epoch 270/300: \t Loss: 8.40\n",
      "Epoch 275/300: \t Loss: 8.39\n",
      "Epoch 280/300: \t Loss: 8.40\n",
      "Epoch 285/300: \t Loss: 8.39\n",
      "Epoch 290/300: \t Loss: 8.40\n",
      "Epoch 295/300: \t Loss: 8.40\n",
      "Epoch 300/300: \t Loss: 8.39\n",
      "Final Loss: \t 8.39\n"
     ]
    }
   ],
   "source": [
    "import torch.optim as optim\n",
    "learning_rate = 0.001\n",
    "num_epochs = 300\n",
    "optimizer = optim.Adam(vae_model.parameters(), lr=learning_rate)\n",
    "\n",
    "# bce = nn.BCELoss(reduction='sum')\n",
    "obj_vals = []\n",
    "\n",
    "for epoch in range(num_epochs):\n",
    "    loss_sum = 0\n",
    "    for (inputs, _) in input_loader:\n",
    "        loss = torch.sum((inputs - vae_model.forward(inputs)).pow(2)) + vae_model.enc.kl # using MSE loss & KL\n",
    "        loss_sum += loss.item()\n",
    "\n",
    "        optimizer.zero_grad()\n",
    "        loss.backward()\n",
    "        optimizer.step()\n",
    "        \n",
    "    obj_val = loss_sum/len(input_loader.dataset)\n",
    "    obj_vals.append(obj_val)\n",
    "\n",
    "    if (epoch+1) % 5 == 0:\n",
    "        print(f'Epoch {epoch+1}/{num_epochs}: \\t Loss: {obj_val:.2f}')\n",
    "\n",
    "print(f\"Final Loss: \\t {obj_val:.2f}\")"
   ]
  },
  {
   "cell_type": "markdown",
   "metadata": {},
   "source": [
    "### Step 8 - Generate digit sample images with trained model"
   ]
  },
  {
   "cell_type": "code",
   "execution_count": null,
   "metadata": {},
   "outputs": [],
   "source": []
  }
 ],
 "metadata": {
  "kernelspec": {
   "display_name": "Python 3.9.13 ('.venv': venv)",
   "language": "python",
   "name": "python3"
  },
  "language_info": {
   "codemirror_mode": {
    "name": "ipython",
    "version": 3
   },
   "file_extension": ".py",
   "mimetype": "text/x-python",
   "name": "python",
   "nbconvert_exporter": "python",
   "pygments_lexer": "ipython3",
   "version": "3.9.13"
  },
  "orig_nbformat": 4,
  "vscode": {
   "interpreter": {
    "hash": "42d2056ab37e996ff35e746a5efbc6c2c6f0fb4a0a2b12ddc8157cd8944c4c9f"
   }
  }
 },
 "nbformat": 4,
 "nbformat_minor": 2
}
