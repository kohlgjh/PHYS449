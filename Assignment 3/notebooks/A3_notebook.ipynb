{
 "cells": [
  {
   "cell_type": "markdown",
   "metadata": {},
   "source": [
    "## Data Generation\n",
    "Generate data by generating random integers, converting to binary representation, then dumping into array"
   ]
  },
  {
   "cell_type": "code",
   "execution_count": 1,
   "metadata": {},
   "outputs": [],
   "source": [
    "import torch\n",
    "device = torch.device('cuda' if torch.cuda.is_available() else 'cpu')"
   ]
  },
  {
   "cell_type": "code",
   "execution_count": 2,
   "metadata": {},
   "outputs": [
    {
     "name": "stdout",
     "output_type": "stream",
     "text": [
      "226\n",
      "11100010\n",
      "[0 1 0 0 0 1 1 1]\n"
     ]
    }
   ],
   "source": [
    "import numpy as np\n",
    "import re\n",
    "np.random.seed(12345)\n",
    "intrep = np.random.randint(0, 256)\n",
    "print(intrep)\n",
    "binrep = np.binary_repr(intrep, width=8)\n",
    "print(binrep)\n",
    "arrep = np.flip(np.array(re.split('',binrep)[1:-1], dtype=int))\n",
    "print(arrep)"
   ]
  },
  {
   "cell_type": "code",
   "execution_count": 3,
   "metadata": {},
   "outputs": [
    {
     "name": "stdout",
     "output_type": "stream",
     "text": [
      "['01010001' '10001010' '00011010' ... '11100100' '00010100' '11010101']\n",
      "[[1 0 0 ... 0 1 0]\n",
      " [0 1 0 ... 0 0 1]\n",
      " [0 1 0 ... 0 0 0]\n",
      " ...\n",
      " [0 0 1 ... 1 1 1]\n",
      " [0 0 1 ... 0 0 0]\n",
      " [1 0 1 ... 0 1 1]]\n"
     ]
    }
   ],
   "source": [
    "import numpy as np\n",
    "import re\n",
    "np.random.seed(54321)\n",
    "\n",
    "ints = np.random.randint(0, 256, size=100_000)\n",
    "A = ints.copy()[0:50_000].astype(np.int64)\n",
    "B = ints.copy()[50_000:].astype(np.int64)\n",
    "C = A*B.astype(np.int64)\n",
    "\n",
    "Astr, Bstr, Cstr = np.empty(len(A), dtype=object), np.empty(len(A), dtype=object), np.empty(len(A), dtype=object)\n",
    "\n",
    "for i in range(len(A)):\n",
    "    Astr[i] = np.binary_repr(A[i], width=8)\n",
    "    Bstr[i] = np.binary_repr(B[i], width=8)\n",
    "    Cstr[i] = np.binary_repr(C[i], width=16)\n",
    "print(Astr)\n",
    "\n",
    "Aarr, Barr, Carr = np.empty((len(A),8), dtype=object), np.empty((len(A),8), dtype=object), np.empty((len(A),16), dtype=object)\n",
    "\n",
    "for i in range(len(A)):\n",
    "    Aarr[i] = np.flip(np.array(re.split('', Astr[i])[1:-1], dtype=int))\n",
    "    Barr[i] = np.flip(np.array(re.split('', Bstr[i])[1:-1], dtype=int))\n",
    "    Carr[i] = np.flip(np.array(re.split('', Cstr[i])[1:-1], dtype=int))\n",
    "print(Aarr)"
   ]
  },
  {
   "cell_type": "markdown",
   "metadata": {},
   "source": [
    "Function form of the above code for main code base"
   ]
  },
  {
   "cell_type": "code",
   "execution_count": 4,
   "metadata": {},
   "outputs": [
    {
     "name": "stdout",
     "output_type": "stream",
     "text": [
      "[[0 1]\n",
      " [1 0]\n",
      " [0 1]\n",
      " [0 1]\n",
      " [1 0]\n",
      " [0 1]\n",
      " [1 0]\n",
      " [1 0]]\n"
     ]
    }
   ],
   "source": [
    "'''Functions to generate the training/test data, and interlace binary numbers for the input'''\n",
    "\n",
    "import numpy as np\n",
    "import re\n",
    "\n",
    "def interlace(in1:np.ndarray, in2:np.ndarray) -> np.ndarray:\n",
    "    '''\n",
    "    Interlaces in1 and in2\n",
    "    \n",
    "    Example: \n",
    "    in1 = [[[0 1], [1 0], ...], ...]\n",
    "    in2 = [[[1 0], [1 0], ...], ...]\n",
    "    returns: [[[0 1], [1 0], [1 0], [1 0]], ...]\n",
    "    '''\n",
    "    laced = np.empty((in1.shape[0], in1.shape[1]*2, 2), dtype=int)\n",
    "\n",
    "    for i in range(in1.shape[0]):\n",
    "        for j in range(in1.shape[1]):\n",
    "            laced[i, 2*j] = in1[i,j]\n",
    "            laced[i, (2*j)+1] = in2[i,j]\n",
    "\n",
    "    return laced\n",
    "\n",
    "def generate_train_test(train_size, test_size, seed) -> np.ndarray:\n",
    "    '''\n",
    "    Generates the training and testing data given a random seed.\n",
    "\n",
    "    We use one-hot defintiions of:\n",
    "    1 = [0 1], 0 = [1 0]\n",
    "\n",
    "    Returns:\n",
    "    A_train - 2D array where each row is separated digits of 8-bit binary number\n",
    "    B_train - 2D array where each row is separated digits of 8-bit binary number\n",
    "    C_train - 2D array where each row is separated digits of a 16-bit binary number of A*B\n",
    "    A_test - ...\n",
    "    B_test - ...\n",
    "    C_test - ...\n",
    "    '''\n",
    "\n",
    "    total_size = train_size + test_size\n",
    "\n",
    "    # generate the random integers 0-255\n",
    "    np.random.seed(seed)\n",
    "    ints = np.random.randint(0, 256, size=total_size*2)\n",
    "    A = ints.copy()[0:total_size].astype(np.int64)\n",
    "    B = ints.copy()[total_size:].astype(np.int64)\n",
    "    C = A*B.astype(np.int64)\n",
    "\n",
    "    # arrays to hold the binary-representation-strings of the converted integers\n",
    "    Astr, Bstr, Cstr = np.empty(len(A), dtype=object), np.empty(len(A), dtype=object), np.empty(len(A), dtype=object)\n",
    "\n",
    "    for i in range(len(A)):\n",
    "        Astr[i] = np.binary_repr(A[i], width=8)\n",
    "        Bstr[i] = np.binary_repr(B[i], width=8)\n",
    "        Cstr[i] = np.binary_repr(C[i], width=16)\n",
    "\n",
    "    # arrays to hold the 0's and 1's that come from splitting the strings of binary-representation\n",
    "    Aarr, Barr, Carr = np.empty((len(A),8,2), dtype=object), np.empty((len(A),8,2), dtype=object), np.empty((len(A),16, 2), dtype=object)\n",
    "\n",
    "    for i in range(len(A)):\n",
    "        for j, binary in enumerate(np.flip(np.array(re.split('', Astr[i])[1:-1], dtype=int))):\n",
    "            Aarr[i, j] = [1, 0] if binary == 0 else [0, 1]\n",
    "\n",
    "        for j, binary in enumerate(np.flip(np.array(re.split('', Bstr[i])[1:-1], dtype=int))):\n",
    "            Barr[i, j] = [1, 0] if binary == 0 else [0, 1]\n",
    "\n",
    "        for j, binary in enumerate(np.flip(np.array(re.split('', Cstr[i])[1:-1], dtype=int))):\n",
    "            Carr[i, j] = [1, 0] if binary == 0 else [0, 1]\n",
    "    \n",
    "    return Aarr[0:train_size], Barr[0:train_size], Carr[0:train_size], Aarr[train_size:], Barr[train_size:], Carr[train_size:]\n",
    "\n",
    "train_size = 10_000\n",
    "test_size = 2_000\n",
    "\n",
    "atr,btr,ctr,ate,bte,cte = generate_train_test(train_size, test_size, 12345)\n",
    "# print(atr[0])\n",
    "print(btr[0])\n",
    "abtr, batr = interlace(atr, btr), interlace(btr, atr)\n",
    "abte, bate = interlace(ate, bte), interlace(bte, ate)\n"
   ]
  },
  {
   "cell_type": "markdown",
   "metadata": {},
   "source": [
    "## Model"
   ]
  },
  {
   "cell_type": "code",
   "execution_count": 5,
   "metadata": {},
   "outputs": [],
   "source": [
    "import torch\n",
    "import torch.nn as nn\n",
    "import torch.nn.functional as func\n",
    "\n",
    "class Net(nn.Module):\n",
    "    def __init__(self):\n",
    "        super().__init__()\n",
    "\n",
    "        self.lstm = nn.RNN(2, 32, num_layers=4, batch_first=True) # input size is either 2 or 1?\n",
    "        self.linlayer1 = nn.Linear(32, 512) # go from hidden layer size of lstm to reduced size\n",
    "        self.linLayer2 = nn.Linear(512, 128)\n",
    "        self.linLayer3 = nn.Linear(128, 2) # output of 32 which gets reshaped\n",
    "        self.softmax = nn.Softmax(dim=2)\n",
    "\n",
    "    def forward(self, x, input_size):\n",
    "        outputs, (hidden_state, cell_state) = self.lstm(x)\n",
    "        # print('outputs shape:', outputs.shape)\n",
    "        # print('hidden_state shape:', hidden_state.shape)\n",
    "        # print('cell state shape:', cell_state.shape)\n",
    "\n",
    "        # outputs, hidden_state = self.lstm(x)\n",
    "        # output = self.linlayer1(hidden_state[-1])\n",
    "        output = self.linlayer1(outputs)\n",
    "        output = torch.sigmoid(output)\n",
    "\n",
    "        output = self.linLayer2(output)\n",
    "        output = torch.sigmoid(output)\n",
    "\n",
    "        output = self.linLayer3(output)\n",
    "        output = torch.sigmoid(output)\n",
    "        # print('Layer three output size: ', output.shape)\n",
    "        # output = torch.reshape(output, (input_size, 16, 2))\n",
    "        return self.softmax(output)\n",
    "\n",
    "    def reset(self):\n",
    "        self.lstm.reset_parameters()\n",
    "        self.linlayer1.reset_parameters()\n",
    "        self.linLayer2.reset_parameters()\n",
    "        self.linLayer3.reset_parameters()\n",
    "\n",
    "class Net2(nn.Module):\n",
    "    def __init__(self):\n",
    "        super().__init__()\n",
    "\n",
    "        self.lstm = nn.LSTM(2, 128, num_layers=2, batch_first=True) # input size is either 2 or 1?\n",
    "        # self.rnn_to_fcl = nn.Linear(512, 64) # go from hidden layer size of lstm to reduced size\n",
    "        self.fcl_to_output = nn.Linear(128, 32)\n",
    "        self.softmax = nn.Softmax(dim=2)\n",
    "\n",
    "    def forward(self, x, input_size):\n",
    "        outputs, (h_n,c_n)= self.lstm(x)\n",
    "        # print('outputs shape:', outputs.shape)\n",
    "        # print('hidden_state shape:', hidden_state.shape)\n",
    "        # print('cell state shape:', cell_state.shape)\n",
    "        # output = self.rnn_to_fcl(h_n[-1])\n",
    "        output = self.fcl_to_output(h_n[-1])\n",
    "        output = torch.reshape(output, (input_size, 16, 2))\n",
    "        return output\n",
    "\n",
    "    def reset(self):\n",
    "        self.lstm.reset_parameters()\n",
    "        # self.rnn_to_fcl.reset_parameters()\n",
    "        self.fcl_to_output.reset_parameters()\n",
    "\n",
    "model = Net2().to(device)"
   ]
  },
  {
   "cell_type": "code",
   "execution_count": 6,
   "metadata": {},
   "outputs": [
    {
     "name": "stdout",
     "output_type": "stream",
     "text": [
      "torch.Size([10000, 16, 2]) torch.Size([10000, 16, 2])\n",
      "tensor([[-0.0666, -0.0884],\n",
      "        [-0.0886,  0.0245],\n",
      "        [-0.0830, -0.0928],\n",
      "        [ 0.1164, -0.0422],\n",
      "        [ 0.0236, -0.0024],\n",
      "        [-0.0382, -0.0276],\n",
      "        [-0.0266, -0.0011],\n",
      "        [-0.0116, -0.0234],\n",
      "        [-0.0409,  0.0094],\n",
      "        [ 0.0369,  0.0058],\n",
      "        [-0.0529, -0.0739],\n",
      "        [ 0.0116, -0.0543],\n",
      "        [ 0.0435,  0.0352],\n",
      "        [ 0.0893, -0.0641],\n",
      "        [ 0.0248,  0.0333],\n",
      "        [ 0.0641,  0.0730]], device='cuda:0', grad_fn=<SelectBackward0>)\n"
     ]
    }
   ],
   "source": [
    "import torch.optim as optim\n",
    "learning_rate = 0.005\n",
    "optimizer = optim.Adam(model.parameters(), lr=learning_rate)\n",
    "\n",
    "abtr = torch.from_numpy(abtr).type(torch.float).to(device)\n",
    "batr = torch.from_numpy(batr).type(torch.float).to(device)\n",
    "abte = torch.from_numpy(abte).type(torch.float).to(device)\n",
    "bate = torch.from_numpy(bate).type(torch.float).to(device)\n",
    "ctr = torch.from_numpy(ctr.astype(int)).type(torch.float).to(device)\n",
    "cte = torch.from_numpy(cte.astype(int)).type(torch.float).to(device)\n",
    "\n",
    "print(model.forward(abtr, train_size).shape, ctr.shape)\n",
    "print(model.forward(abtr, train_size)[0])\n",
    "# print(ctr[0])"
   ]
  },
  {
   "cell_type": "code",
   "execution_count": 7,
   "metadata": {},
   "outputs": [],
   "source": [
    "batch_size = 200\n",
    "test_set = torch.utils.data.TensorDataset(abte, cte)\n",
    "train_set = torch.utils.data.TensorDataset(abtr, ctr)\n",
    "test_loader = torch.utils.data.DataLoader(test_set, batch_size=batch_size, shuffle=False)\n",
    "train_loader = torch.utils.data.DataLoader(train_set, batch_size=batch_size, shuffle=True)"
   ]
  },
  {
   "cell_type": "code",
   "execution_count": 8,
   "metadata": {},
   "outputs": [
    {
     "name": "stdout",
     "output_type": "stream",
     "text": [
      "Epoch [100/2000]\t Training Loss: 18.913481\n",
      "Epoch [100/2000]\t Test Loss: 19.411474\n",
      "Epoch [200/2000]\t Training Loss: 17.707470\n",
      "Epoch [200/2000]\t Test Loss: 19.187168\n",
      "Epoch [300/2000]\t Training Loss: 17.402878\n",
      "Epoch [300/2000]\t Test Loss: 19.587725\n",
      "Epoch [400/2000]\t Training Loss: 17.420177\n",
      "Epoch [400/2000]\t Test Loss: 19.682253\n",
      "Epoch [500/2000]\t Training Loss: 17.325930\n",
      "Epoch [500/2000]\t Test Loss: 19.491360\n",
      "Epoch [600/2000]\t Training Loss: 17.201101\n",
      "Epoch [600/2000]\t Test Loss: 19.661449\n",
      "Epoch [700/2000]\t Training Loss: 18.054184\n",
      "Epoch [700/2000]\t Test Loss: 20.148315\n",
      "Epoch [800/2000]\t Training Loss: 17.173740\n",
      "Epoch [800/2000]\t Test Loss: 20.151848\n",
      "Epoch [900/2000]\t Training Loss: 17.257605\n",
      "Epoch [900/2000]\t Test Loss: 19.901794\n",
      "Epoch [1000/2000]\t Training Loss: 17.367727\n",
      "Epoch [1000/2000]\t Test Loss: 20.063969\n",
      "Epoch [1100/2000]\t Training Loss: 17.261475\n",
      "Epoch [1100/2000]\t Test Loss: 20.143269\n",
      "Epoch [1200/2000]\t Training Loss: 17.196390\n",
      "Epoch [1200/2000]\t Test Loss: 20.308262\n",
      "Epoch [1300/2000]\t Training Loss: 17.257179\n",
      "Epoch [1300/2000]\t Test Loss: 19.777910\n",
      "Epoch [1400/2000]\t Training Loss: 17.133104\n",
      "Epoch [1400/2000]\t Test Loss: 20.089968\n",
      "Epoch [1500/2000]\t Training Loss: 17.166700\n",
      "Epoch [1500/2000]\t Test Loss: 19.940935\n",
      "Epoch [1600/2000]\t Training Loss: 17.312807\n",
      "Epoch [1600/2000]\t Test Loss: 20.029867\n",
      "Epoch [1700/2000]\t Training Loss: 17.140835\n",
      "Epoch [1700/2000]\t Test Loss: 20.257612\n",
      "Epoch [1800/2000]\t Training Loss: 17.209492\n",
      "Epoch [1800/2000]\t Test Loss: 19.884203\n",
      "Epoch [1900/2000]\t Training Loss: 17.257790\n",
      "Epoch [1900/2000]\t Test Loss: 20.233515\n",
      "Epoch [2000/2000]\t Training Loss: 17.129496\n",
      "Epoch [2000/2000]\t Test Loss: 20.206928\n",
      "Final training loss: 17.1295\n",
      "Final test loss: 20.2069\n"
     ]
    }
   ],
   "source": [
    "num_epochs = 2000\n",
    "display_epochs = 100\n",
    "\n",
    "\n",
    "\n",
    "obj_vals= []\n",
    "cross_vals= []\n",
    "\n",
    "model.reset() # reset your parameters\n",
    "loss = nn.CrossEntropyLoss()\n",
    "\n",
    "# def closure():\n",
    "#     optimizer.zero_grad()\n",
    "#     objective = loss(model.forward(abtr), ctr, abtr.shape, ctr.shape)\n",
    "#     objective.backward()\n",
    "#     return objective\n",
    "\n",
    "for epoch in range(num_epochs):\n",
    "\n",
    "    for (train, train_targets), (test, test_targets) in zip(train_loader, test_loader):\n",
    "\n",
    "        obj_val = loss(model.forward(train, batch_size), train_targets)\n",
    "        \n",
    "        optimizer.zero_grad()\n",
    "        obj_val.backward()\n",
    "        optimizer.step()\n",
    "        obj_vals.append(obj_val.item())\n",
    "                \n",
    "        # as it trains check how well it tests\n",
    "        with torch.no_grad(): \n",
    "            # don't track calculations in the following scope for the purposes of gradients\n",
    "            cross_val = loss(model.forward(test, batch_size), test_targets)\n",
    "            cross_vals.append(cross_val)\n",
    "\n",
    "    if (epoch+1) % display_epochs == 0:\n",
    "        print ('Epoch [{}/{}]\\t Training Loss: {:.6f}'.format(epoch+1, num_epochs, obj_val.item()))\n",
    "    if (epoch+1) % display_epochs == 0:\n",
    "        print ('Epoch [{}/{}]\\t Test Loss: {:.6f}'.format(epoch+1, num_epochs, cross_val.item()))\n",
    "        \n",
    "print('Final training loss: {:.4f}'.format(obj_vals[-1]))\n",
    "print('Final test loss: {:.4f}'.format(cross_vals[-1]))"
   ]
  },
  {
   "cell_type": "code",
   "execution_count": 22,
   "metadata": {},
   "outputs": [
    {
     "data": {
      "text/plain": [
       "array([[1, 0],\n",
       "       [1, 0],\n",
       "       [0, 1],\n",
       "       [0, 1],\n",
       "       [0, 1],\n",
       "       [0, 1],\n",
       "       [0, 1],\n",
       "       [1, 0],\n",
       "       [0, 1],\n",
       "       [0, 1],\n",
       "       [1, 0],\n",
       "       [1, 0],\n",
       "       [1, 0],\n",
       "       [0, 1],\n",
       "       [0, 1],\n",
       "       [1, 0]])"
      ]
     },
     "execution_count": 22,
     "metadata": {},
     "output_type": "execute_result"
    }
   ],
   "source": [
    "np.set_printoptions(formatter={'float': lambda x: \"{0:0.1f}\".format(x)})\n",
    "pred = model.forward(abte, test_size)\n",
    "softmax = nn.Softmax(dim=2)\n",
    "pred = softmax(pred).cpu().detach().numpy()\n",
    "\n",
    "preds = np.round(pred).astype(int)\n",
    "preds[0]"
   ]
  },
  {
   "cell_type": "code",
   "execution_count": 23,
   "metadata": {},
   "outputs": [
    {
     "name": "stdout",
     "output_type": "stream",
     "text": [
      "0.2235\n",
      "2000\n"
     ]
    }
   ],
   "source": [
    "labels = test_loader.dataset[:][1].cpu().detach().numpy().astype(int)\n",
    "data = test_loader.dataset[:][0]\n",
    "# preds = np.round(model.forward(data, data.shape[0]).cpu().detach().numpy()).astype(int)\n",
    "\n",
    "pred_sum = 0\n",
    "for label, pred in zip(labels, preds):\n",
    "    if np.array_equal(label, pred): pred_sum += 1\n",
    "\n",
    "print(pred_sum/labels.shape[0])\n",
    "print(labels.shape[0])"
   ]
  },
  {
   "cell_type": "code",
   "execution_count": null,
   "metadata": {},
   "outputs": [],
   "source": []
  }
 ],
 "metadata": {
  "kernelspec": {
   "display_name": "Python 3.9.13 ('.venv': venv)",
   "language": "python",
   "name": "python3"
  },
  "language_info": {
   "codemirror_mode": {
    "name": "ipython",
    "version": 3
   },
   "file_extension": ".py",
   "mimetype": "text/x-python",
   "name": "python",
   "nbconvert_exporter": "python",
   "pygments_lexer": "ipython3",
   "version": "3.9.13"
  },
  "orig_nbformat": 4,
  "vscode": {
   "interpreter": {
    "hash": "42d2056ab37e996ff35e746a5efbc6c2c6f0fb4a0a2b12ddc8157cd8944c4c9f"
   }
  }
 },
 "nbformat": 4,
 "nbformat_minor": 2
}
