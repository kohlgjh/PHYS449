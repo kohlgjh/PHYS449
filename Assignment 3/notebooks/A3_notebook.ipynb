{
 "cells": [
  {
   "cell_type": "markdown",
   "metadata": {},
   "source": [
    "## Data Generation\n",
    "Generate data by generating random integers, converting to binary representation, then dumping into array"
   ]
  },
  {
   "cell_type": "code",
   "execution_count": 73,
   "metadata": {},
   "outputs": [
    {
     "data": {
      "text/plain": [
       "True"
      ]
     },
     "execution_count": 73,
     "metadata": {},
     "output_type": "execute_result"
    }
   ],
   "source": [
    "import torch\n",
    "torch.cuda.is_available()"
   ]
  },
  {
   "cell_type": "code",
   "execution_count": 74,
   "metadata": {},
   "outputs": [
    {
     "name": "stdout",
     "output_type": "stream",
     "text": [
      "226\n",
      "11100010\n",
      "[0 1 0 0 0 1 1 1]\n"
     ]
    }
   ],
   "source": [
    "import numpy as np\n",
    "import re\n",
    "np.random.seed(12345)\n",
    "intrep = np.random.randint(0, 256)\n",
    "print(intrep)\n",
    "binrep = np.binary_repr(intrep, width=8)\n",
    "print(binrep)\n",
    "arrep = np.flip(np.array(re.split('',binrep)[1:-1], dtype=int))\n",
    "print(arrep)"
   ]
  },
  {
   "cell_type": "code",
   "execution_count": 75,
   "metadata": {},
   "outputs": [
    {
     "name": "stdout",
     "output_type": "stream",
     "text": [
      "['01010001' '10001010' '00011010' ... '11100100' '00010100' '11010101']\n",
      "[[1 0 0 ... 0 1 0]\n",
      " [0 1 0 ... 0 0 1]\n",
      " [0 1 0 ... 0 0 0]\n",
      " ...\n",
      " [0 0 1 ... 1 1 1]\n",
      " [0 0 1 ... 0 0 0]\n",
      " [1 0 1 ... 0 1 1]]\n"
     ]
    }
   ],
   "source": [
    "import numpy as np\n",
    "import re\n",
    "np.random.seed(54321)\n",
    "\n",
    "ints = np.random.randint(0, 256, size=100_000)\n",
    "A = ints.copy()[0:50_000].astype(np.int64)\n",
    "B = ints.copy()[50_000:].astype(np.int64)\n",
    "C = A*B.astype(np.int64)\n",
    "\n",
    "Astr, Bstr, Cstr = np.empty(len(A), dtype=object), np.empty(len(A), dtype=object), np.empty(len(A), dtype=object)\n",
    "\n",
    "for i in range(len(A)):\n",
    "    Astr[i] = np.binary_repr(A[i], width=8)\n",
    "    Bstr[i] = np.binary_repr(B[i], width=8)\n",
    "    Cstr[i] = np.binary_repr(C[i], width=16)\n",
    "print(Astr)\n",
    "\n",
    "Aarr, Barr, Carr = np.empty((len(A),8), dtype=object), np.empty((len(A),8), dtype=object), np.empty((len(A),16), dtype=object)\n",
    "\n",
    "for i in range(len(A)):\n",
    "    Aarr[i] = np.flip(np.array(re.split('', Astr[i])[1:-1], dtype=int))\n",
    "    Barr[i] = np.flip(np.array(re.split('', Bstr[i])[1:-1], dtype=int))\n",
    "    Carr[i] = np.flip(np.array(re.split('', Cstr[i])[1:-1], dtype=int))\n",
    "print(Aarr)"
   ]
  },
  {
   "cell_type": "markdown",
   "metadata": {},
   "source": [
    "Function form of the above code for main code base"
   ]
  },
  {
   "cell_type": "code",
   "execution_count": 76,
   "metadata": {},
   "outputs": [],
   "source": [
    "'''Functions to generate the training/test data, and interlace binary numbers for the input'''\n",
    "\n",
    "import numpy as np\n",
    "import re\n",
    "\n",
    "def interlace(in1:np.ndarray, in2:np.ndarray) -> np.ndarray:\n",
    "    '''\n",
    "    Interlaces in1 and in2\n",
    "    \n",
    "    Example: \n",
    "    in1 = [[[0 1], [1 0], ...], ...]\n",
    "    in2 = [[[1 0], [1 0], ...], ...]\n",
    "    returns: [[[0 1], [1 0], [1 0], [1 0]], ...]\n",
    "    '''\n",
    "    laced = np.empty((in1.shape[0], in1.shape[1]*2, 2), dtype=int)\n",
    "\n",
    "    for i in range(in1.shape[0]):\n",
    "        for j in range(in1.shape[1]):\n",
    "            laced[i, 2*j] = in1[i,j]\n",
    "            laced[i, (2*j)+1] = in2[i,j]\n",
    "\n",
    "    return laced\n",
    "\n",
    "def generate_train_test(train_size, test_size, seed) -> np.ndarray:\n",
    "    '''\n",
    "    Generates the training and testing data given a random seed.\n",
    "\n",
    "    We use one-hot defintiions of:\n",
    "    1 = [0 1], 0 = [1 0]\n",
    "\n",
    "    Returns:\n",
    "    A_train - 2D array where each row is separated digits of 8-bit binary number\n",
    "    B_train - 2D array where each row is separated digits of 8-bit binary number\n",
    "    C_train - 2D array where each row is separated digits of a 16-bit binary number of A*B\n",
    "    A_test - ...\n",
    "    B_test - ...\n",
    "    C_test - ...\n",
    "    '''\n",
    "\n",
    "    total_size = train_size + test_size\n",
    "\n",
    "    # generate the random integers 0-255\n",
    "    np.random.seed(seed)\n",
    "    ints = np.random.randint(0, 256, size=total_size*2)\n",
    "    A = ints.copy()[0:total_size].astype(np.int64)\n",
    "    B = ints.copy()[total_size:].astype(np.int64)\n",
    "    C = A*B.astype(np.int64)\n",
    "\n",
    "    # arrays to hold the binary-representation-strings of the converted integers\n",
    "    Astr, Bstr, Cstr = np.empty(len(A), dtype=object), np.empty(len(A), dtype=object), np.empty(len(A), dtype=object)\n",
    "\n",
    "    for i in range(len(A)):\n",
    "        Astr[i] = np.binary_repr(A[i], width=8)\n",
    "        Bstr[i] = np.binary_repr(B[i], width=8)\n",
    "        Cstr[i] = np.binary_repr(C[i], width=16)\n",
    "\n",
    "    # arrays to hold the 0's and 1's that come from splitting the strings of binary-representation\n",
    "    Aarr, Barr, Carr = np.empty((len(A),8,2), dtype=object), np.empty((len(A),8,2), dtype=object), np.empty((len(A),16, 2), dtype=object)\n",
    "\n",
    "    for i in range(len(A)):\n",
    "        for j, binary in enumerate(np.flip(np.array(re.split('', Astr[i])[1:-1], dtype=int))):\n",
    "            Aarr[i, j] = [1, 0] if binary == 0 else [0, 1]\n",
    "\n",
    "        for j, binary in enumerate(np.flip(np.array(re.split('', Bstr[i])[1:-1], dtype=int))):\n",
    "            Barr[i, j] = [1, 0] if binary == 0 else [0, 1]\n",
    "\n",
    "        for j, binary in enumerate(np.flip(np.array(re.split('', Cstr[i])[1:-1], dtype=int))):\n",
    "            Carr[i, j] = [1, 0] if binary == 0 else [0, 1]\n",
    "    \n",
    "    return Aarr[0:train_size], Barr[0:train_size], Carr[0:train_size], Aarr[train_size:], Barr[train_size:], Carr[train_size:]\n",
    "# TESTING\n",
    "\n",
    "atr,btr,ctr,ate,bte,cte = generate_train_test(10_000, 2000, 12345)\n",
    "# print(atr[0])\n",
    "# print(btr[0])\n",
    "abtr, batr = interlace(atr, btr), interlace(btr, atr)\n",
    "abte, bate = interlace(ate, bte), interlace(bte, ate)\n"
   ]
  },
  {
   "cell_type": "code",
   "execution_count": 77,
   "metadata": {},
   "outputs": [
    {
     "data": {
      "text/plain": [
       "(10000, 16, 2)"
      ]
     },
     "execution_count": 77,
     "metadata": {},
     "output_type": "execute_result"
    }
   ],
   "source": [
    "ctr.shape"
   ]
  },
  {
   "cell_type": "code",
   "execution_count": 78,
   "metadata": {},
   "outputs": [],
   "source": [
    "import torch\n",
    "import torch.nn as nn\n",
    "import torch.nn.functional as func\n",
    "\n",
    "class Net(nn.Module):\n",
    "    def __init__(self):\n",
    "        super().__init__()\n",
    "\n",
    "        self.lstm = nn.RNN(2, 128, num_layers=1, batch_first=True) # input size is either 2 or 1?\n",
    "        self.linlayer1 = nn.Linear(128, 64) # go from hidden layer size of lstm to reduced size\n",
    "        self.linLayer2 = nn.Linear(64, 16) # output of 16\n",
    "\n",
    "    def forward(self, x):\n",
    "        # outputs, (hidden_state, cell_state) = self.lstm(x)\n",
    "        outputs, hidden_state = self.lstm(x)\n",
    "        output = self.linlayer1(hidden_state[-1])\n",
    "        output = torch.sigmoid(output)\n",
    "        output = self.linLayer2(output)\n",
    "        return func.one_hot(torch.round(torch.sigmoid(output)).to(torch.int64), num_classes=2).to(torch.float)\n",
    "\n",
    "    def reset(self):\n",
    "        self.lstm.reset_parameters()\n",
    "        self.linlayer1.reset_parameters()\n",
    "        self.linLayer2.reset_parameters()\n",
    "\n",
    "model = Net().to(torch.device(\"cuda\"))"
   ]
  },
  {
   "cell_type": "code",
   "execution_count": 79,
   "metadata": {},
   "outputs": [
    {
     "name": "stdout",
     "output_type": "stream",
     "text": [
      "torch.Size([10000, 16, 2]) torch.Size([10000, 16, 2])\n",
      "tensor([[0., 1.],\n",
      "        [0., 1.],\n",
      "        [1., 0.],\n",
      "        [1., 0.],\n",
      "        [1., 0.],\n",
      "        [1., 0.],\n",
      "        [0., 1.],\n",
      "        [1., 0.],\n",
      "        [1., 0.],\n",
      "        [1., 0.],\n",
      "        [0., 1.],\n",
      "        [1., 0.],\n",
      "        [1., 0.],\n",
      "        [0., 1.],\n",
      "        [0., 1.],\n",
      "        [0., 1.]], device='cuda:0')\n",
      "tensor([[1., 0.],\n",
      "        [0., 1.],\n",
      "        [1., 0.],\n",
      "        [0., 1.],\n",
      "        [0., 1.],\n",
      "        [0., 1.],\n",
      "        [1., 0.],\n",
      "        [0., 1.],\n",
      "        [0., 1.],\n",
      "        [0., 1.],\n",
      "        [0., 1.],\n",
      "        [1., 0.],\n",
      "        [1., 0.],\n",
      "        [0., 1.],\n",
      "        [1., 0.],\n",
      "        [1., 0.]], device='cuda:0')\n"
     ]
    }
   ],
   "source": [
    "import torch.optim as optim\n",
    "learning_rate = 0.01\n",
    "optimizer = optim.LBFGS(model.parameters(), lr=learning_rate)\n",
    "\n",
    "abtr = torch.from_numpy(abtr).type(torch.float).to(\"cuda\")\n",
    "batr = torch.from_numpy(batr).type(torch.float).to(\"cuda\")\n",
    "abte = torch.from_numpy(abte).type(torch.float).to(\"cuda\")\n",
    "bate = torch.from_numpy(bate).type(torch.float).to(\"cuda\")\n",
    "ctr = torch.from_numpy(ctr.astype(int)).type(torch.float).to(\"cuda\")\n",
    "cte = torch.from_numpy(cte.astype(int)).type(torch.float).to(\"cuda\")\n",
    "\n",
    "print(model.forward(abtr).shape, ctr.shape)\n",
    "print(model.forward(abtr)[0])\n",
    "print(ctr[0])"
   ]
  },
  {
   "cell_type": "code",
   "execution_count": 80,
   "metadata": {},
   "outputs": [
    {
     "ename": "RuntimeError",
     "evalue": "Expected 1 to 2 dimensions, but got 3-dimensional tensor for argument #2 'targets' (while checking arguments for ctc_loss_gpu)",
     "output_type": "error",
     "traceback": [
      "\u001b[1;31m---------------------------------------------------------------------------\u001b[0m",
      "\u001b[1;31mRuntimeError\u001b[0m                              Traceback (most recent call last)",
      "Cell \u001b[1;32mIn [80], line 20\u001b[0m\n\u001b[0;32m     16\u001b[0m     \u001b[39mreturn\u001b[39;00m objective\n\u001b[0;32m     18\u001b[0m \u001b[39mfor\u001b[39;00m epoch \u001b[39min\u001b[39;00m \u001b[39mrange\u001b[39m(num_epochs):\n\u001b[1;32m---> 20\u001b[0m     obj_val \u001b[39m=\u001b[39m loss(model\u001b[39m.\u001b[39;49mforward(abtr), ctr, abtr\u001b[39m.\u001b[39;49mshape, ctr\u001b[39m.\u001b[39;49mshape)\n\u001b[0;32m     22\u001b[0m     optimizer\u001b[39m.\u001b[39mzero_grad()\n\u001b[0;32m     23\u001b[0m     obj_val\u001b[39m.\u001b[39mbackward()\n",
      "File \u001b[1;32md:\\Desktop\\School\\School Docs\\PHYS 449\\PHYS449_repo\\.venv\\lib\\site-packages\\torch\\nn\\modules\\module.py:1190\u001b[0m, in \u001b[0;36mModule._call_impl\u001b[1;34m(self, *input, **kwargs)\u001b[0m\n\u001b[0;32m   1186\u001b[0m \u001b[39m# If we don't have any hooks, we want to skip the rest of the logic in\u001b[39;00m\n\u001b[0;32m   1187\u001b[0m \u001b[39m# this function, and just call forward.\u001b[39;00m\n\u001b[0;32m   1188\u001b[0m \u001b[39mif\u001b[39;00m \u001b[39mnot\u001b[39;00m (\u001b[39mself\u001b[39m\u001b[39m.\u001b[39m_backward_hooks \u001b[39mor\u001b[39;00m \u001b[39mself\u001b[39m\u001b[39m.\u001b[39m_forward_hooks \u001b[39mor\u001b[39;00m \u001b[39mself\u001b[39m\u001b[39m.\u001b[39m_forward_pre_hooks \u001b[39mor\u001b[39;00m _global_backward_hooks\n\u001b[0;32m   1189\u001b[0m         \u001b[39mor\u001b[39;00m _global_forward_hooks \u001b[39mor\u001b[39;00m _global_forward_pre_hooks):\n\u001b[1;32m-> 1190\u001b[0m     \u001b[39mreturn\u001b[39;00m forward_call(\u001b[39m*\u001b[39m\u001b[39minput\u001b[39m, \u001b[39m*\u001b[39m\u001b[39m*\u001b[39mkwargs)\n\u001b[0;32m   1191\u001b[0m \u001b[39m# Do not call functions when jit is used\u001b[39;00m\n\u001b[0;32m   1192\u001b[0m full_backward_hooks, non_full_backward_hooks \u001b[39m=\u001b[39m [], []\n",
      "File \u001b[1;32md:\\Desktop\\School\\School Docs\\PHYS 449\\PHYS449_repo\\.venv\\lib\\site-packages\\torch\\nn\\modules\\loss.py:1756\u001b[0m, in \u001b[0;36mCTCLoss.forward\u001b[1;34m(self, log_probs, targets, input_lengths, target_lengths)\u001b[0m\n\u001b[0;32m   1755\u001b[0m \u001b[39mdef\u001b[39;00m \u001b[39mforward\u001b[39m(\u001b[39mself\u001b[39m, log_probs: Tensor, targets: Tensor, input_lengths: Tensor, target_lengths: Tensor) \u001b[39m-\u001b[39m\u001b[39m>\u001b[39m Tensor:\n\u001b[1;32m-> 1756\u001b[0m     \u001b[39mreturn\u001b[39;00m F\u001b[39m.\u001b[39;49mctc_loss(log_probs, targets, input_lengths, target_lengths, \u001b[39mself\u001b[39;49m\u001b[39m.\u001b[39;49mblank, \u001b[39mself\u001b[39;49m\u001b[39m.\u001b[39;49mreduction,\n\u001b[0;32m   1757\u001b[0m                       \u001b[39mself\u001b[39;49m\u001b[39m.\u001b[39;49mzero_infinity)\n",
      "File \u001b[1;32md:\\Desktop\\School\\School Docs\\PHYS 449\\PHYS449_repo\\.venv\\lib\\site-packages\\torch\\nn\\functional.py:2628\u001b[0m, in \u001b[0;36mctc_loss\u001b[1;34m(log_probs, targets, input_lengths, target_lengths, blank, reduction, zero_infinity)\u001b[0m\n\u001b[0;32m   2621\u001b[0m \u001b[39mif\u001b[39;00m has_torch_function_variadic(log_probs, targets, input_lengths, target_lengths):\n\u001b[0;32m   2622\u001b[0m     \u001b[39mreturn\u001b[39;00m handle_torch_function(\n\u001b[0;32m   2623\u001b[0m         ctc_loss,\n\u001b[0;32m   2624\u001b[0m         (log_probs, targets, input_lengths, target_lengths),\n\u001b[0;32m   2625\u001b[0m         log_probs, targets, input_lengths, target_lengths,\n\u001b[0;32m   2626\u001b[0m         blank\u001b[39m=\u001b[39mblank, reduction\u001b[39m=\u001b[39mreduction, zero_infinity\u001b[39m=\u001b[39mzero_infinity\n\u001b[0;32m   2627\u001b[0m     )\n\u001b[1;32m-> 2628\u001b[0m \u001b[39mreturn\u001b[39;00m torch\u001b[39m.\u001b[39;49mctc_loss(\n\u001b[0;32m   2629\u001b[0m     log_probs, targets, input_lengths, target_lengths, blank, _Reduction\u001b[39m.\u001b[39;49mget_enum(reduction), zero_infinity\n\u001b[0;32m   2630\u001b[0m )\n",
      "\u001b[1;31mRuntimeError\u001b[0m: Expected 1 to 2 dimensions, but got 3-dimensional tensor for argument #2 'targets' (while checking arguments for ctc_loss_gpu)"
     ]
    }
   ],
   "source": [
    "num_epochs = 200\n",
    "display_epochs = 50\n",
    "\n",
    "\n",
    "\n",
    "obj_vals= []\n",
    "cross_vals= []\n",
    "\n",
    "model.reset() # reset your parameters\n",
    "loss = nn.CTCLoss()\n",
    "\n",
    "def closure():\n",
    "    optimizer.zero_grad()\n",
    "    objective = loss(model.forward(abtr), ctr, abtr.shape, ctr.shape)\n",
    "    objective.backward()\n",
    "    return objective\n",
    "\n",
    "for epoch in range(num_epochs):\n",
    "\n",
    "    obj_val = loss(model.forward(abtr), ctr, abtr.shape, ctr.shape)\n",
    "    \n",
    "    optimizer.zero_grad()\n",
    "    obj_val.backward()\n",
    "    optimizer.step(closure)\n",
    "    obj_vals.append(obj_val.item())\n",
    "\n",
    "    if (epoch+1) % display_epochs == 0:\n",
    "        print ('Epoch [{}/{}]\\t Training Loss: {:.6f}'.format(epoch+1, num_epochs, obj_val.item()))\n",
    "            \n",
    "    # as it trains check how well it tests\n",
    "    with torch.no_grad(): \n",
    "        # don't track calculations in the following scope for the purposes of gradients\n",
    "        cross_val = loss(model.forward(abte), cte)\n",
    "        cross_vals.append(cross_val)\n",
    "\n",
    "    if (epoch+1) % display_epochs == 0:\n",
    "        print ('Epoch [{}/{}]\\t Test Loss: {:.6f}'.format(epoch+1, num_epochs, cross_val.item()))\n",
    "        \n",
    "print('Final training loss: {:.4f}'.format(obj_vals[-1]))\n",
    "print('Final test loss: {:.4f}'.format(cross_vals[-1]))"
   ]
  },
  {
   "cell_type": "code",
   "execution_count": null,
   "metadata": {},
   "outputs": [
    {
     "data": {
      "text/plain": [
       "tensor([1., 1., 1., 1., 0., 0., 0., 1., 1., 1., 1., 1., 0., 1., 1., 0.],\n",
       "       device='cuda:0', grad_fn=<SelectBackward0>)"
      ]
     },
     "execution_count": 47,
     "metadata": {},
     "output_type": "execute_result"
    }
   ],
   "source": [
    "model.forward(abtr)[1]"
   ]
  },
  {
   "cell_type": "code",
   "execution_count": null,
   "metadata": {},
   "outputs": [
    {
     "data": {
      "text/plain": [
       "tensor([0., 0., 1., 1., 0., 0., 0., 0., 1., 0., 0., 1., 1., 0., 0., 0.],\n",
       "       device='cuda:0')"
      ]
     },
     "execution_count": 36,
     "metadata": {},
     "output_type": "execute_result"
    }
   ],
   "source": [
    "ctr[1]"
   ]
  },
  {
   "cell_type": "code",
   "execution_count": null,
   "metadata": {},
   "outputs": [
    {
     "data": {
      "text/plain": [
       "tensor([1, 1, 1, 1, 0, 0, 0, 1, 1, 1, 1, 1, 0, 1, 1, 0], dtype=torch.int32)"
      ]
     },
     "execution_count": 37,
     "metadata": {},
     "output_type": "execute_result"
    }
   ],
   "source": [
    "torch.from_numpy(torch.round(model.forward(abtr)[1]).to(torch.int).cpu().numpy())"
   ]
  },
  {
   "cell_type": "code",
   "execution_count": null,
   "metadata": {},
   "outputs": [
    {
     "data": {
      "text/plain": [
       "tensor([[1, 0],\n",
       "        [0, 1],\n",
       "        [0, 1]])"
      ]
     },
     "execution_count": 56,
     "metadata": {},
     "output_type": "execute_result"
    }
   ],
   "source": [
    "func.one_hot(torch.round(torch.tensor([0., 1., 0.7])).to(torch.int64), num_classes=2)"
   ]
  },
  {
   "cell_type": "code",
   "execution_count": null,
   "metadata": {},
   "outputs": [
    {
     "data": {
      "text/plain": [
       "tensor([0, 1, 2])"
      ]
     },
     "execution_count": 39,
     "metadata": {},
     "output_type": "execute_result"
    }
   ],
   "source": [
    "torch.tensor([0, 1, 2])"
   ]
  },
  {
   "cell_type": "code",
   "execution_count": null,
   "metadata": {},
   "outputs": [],
   "source": []
  }
 ],
 "metadata": {
  "kernelspec": {
   "display_name": "Python 3.9.13 ('.venv': venv)",
   "language": "python",
   "name": "python3"
  },
  "language_info": {
   "codemirror_mode": {
    "name": "ipython",
    "version": 3
   },
   "file_extension": ".py",
   "mimetype": "text/x-python",
   "name": "python",
   "nbconvert_exporter": "python",
   "pygments_lexer": "ipython3",
   "version": "3.9.13"
  },
  "orig_nbformat": 4,
  "vscode": {
   "interpreter": {
    "hash": "42d2056ab37e996ff35e746a5efbc6c2c6f0fb4a0a2b12ddc8157cd8944c4c9f"
   }
  }
 },
 "nbformat": 4,
 "nbformat_minor": 2
}
