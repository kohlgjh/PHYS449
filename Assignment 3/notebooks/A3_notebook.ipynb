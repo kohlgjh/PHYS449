{
 "cells": [
  {
   "cell_type": "markdown",
   "metadata": {},
   "source": [
    "## Data Generation\n",
    "Generate data by generating random integers, converting to binary representation, then dumping into array"
   ]
  },
  {
   "cell_type": "code",
   "execution_count": 17,
   "metadata": {},
   "outputs": [
    {
     "data": {
      "text/plain": [
       "True"
      ]
     },
     "execution_count": 17,
     "metadata": {},
     "output_type": "execute_result"
    }
   ],
   "source": [
    "import torch\n",
    "torch.cuda.is_available()"
   ]
  },
  {
   "cell_type": "code",
   "execution_count": 18,
   "metadata": {},
   "outputs": [
    {
     "name": "stdout",
     "output_type": "stream",
     "text": [
      "226\n",
      "11100010\n",
      "[0 1 0 0 0 1 1 1]\n"
     ]
    }
   ],
   "source": [
    "import numpy as np\n",
    "import re\n",
    "np.random.seed(12345)\n",
    "intrep = np.random.randint(0, 256)\n",
    "print(intrep)\n",
    "binrep = np.binary_repr(intrep, width=8)\n",
    "print(binrep)\n",
    "arrep = np.flip(np.array(re.split('',binrep)[1:-1], dtype=int))\n",
    "print(arrep)"
   ]
  },
  {
   "cell_type": "code",
   "execution_count": 19,
   "metadata": {},
   "outputs": [
    {
     "name": "stdout",
     "output_type": "stream",
     "text": [
      "['01010001' '10001010' '00011010' ... '11100100' '00010100' '11010101']\n",
      "[[1 0 0 ... 0 1 0]\n",
      " [0 1 0 ... 0 0 1]\n",
      " [0 1 0 ... 0 0 0]\n",
      " ...\n",
      " [0 0 1 ... 1 1 1]\n",
      " [0 0 1 ... 0 0 0]\n",
      " [1 0 1 ... 0 1 1]]\n"
     ]
    }
   ],
   "source": [
    "import numpy as np\n",
    "import re\n",
    "np.random.seed(54321)\n",
    "\n",
    "ints = np.random.randint(0, 256, size=100_000)\n",
    "A = ints.copy()[0:50_000].astype(np.int64)\n",
    "B = ints.copy()[50_000:].astype(np.int64)\n",
    "C = A*B.astype(np.int64)\n",
    "\n",
    "Astr, Bstr, Cstr = np.empty(len(A), dtype=object), np.empty(len(A), dtype=object), np.empty(len(A), dtype=object)\n",
    "\n",
    "for i in range(len(A)):\n",
    "    Astr[i] = np.binary_repr(A[i], width=8)\n",
    "    Bstr[i] = np.binary_repr(B[i], width=8)\n",
    "    Cstr[i] = np.binary_repr(C[i], width=16)\n",
    "print(Astr)\n",
    "\n",
    "Aarr, Barr, Carr = np.empty((len(A),8), dtype=object), np.empty((len(A),8), dtype=object), np.empty((len(A),16), dtype=object)\n",
    "\n",
    "for i in range(len(A)):\n",
    "    Aarr[i] = np.flip(np.array(re.split('', Astr[i])[1:-1], dtype=int))\n",
    "    Barr[i] = np.flip(np.array(re.split('', Bstr[i])[1:-1], dtype=int))\n",
    "    Carr[i] = np.flip(np.array(re.split('', Cstr[i])[1:-1], dtype=int))\n",
    "print(Aarr)"
   ]
  },
  {
   "cell_type": "markdown",
   "metadata": {},
   "source": [
    "Function form of the above code for main code base"
   ]
  },
  {
   "cell_type": "code",
   "execution_count": 20,
   "metadata": {},
   "outputs": [
    {
     "name": "stdout",
     "output_type": "stream",
     "text": [
      "[[0 1]\n",
      " [1 0]\n",
      " [0 1]\n",
      " [0 1]\n",
      " [1 0]\n",
      " [0 1]\n",
      " [1 0]\n",
      " [1 0]]\n"
     ]
    }
   ],
   "source": [
    "'''Functions to generate the training/test data, and interlace binary numbers for the input'''\n",
    "\n",
    "import numpy as np\n",
    "import re\n",
    "\n",
    "def interlace(in1:np.ndarray, in2:np.ndarray) -> np.ndarray:\n",
    "    '''\n",
    "    Interlaces in1 and in2\n",
    "    \n",
    "    Example: \n",
    "    in1 = [[[0 1], [1 0], ...], ...]\n",
    "    in2 = [[[1 0], [1 0], ...], ...]\n",
    "    returns: [[[0 1], [1 0], [1 0], [1 0]], ...]\n",
    "    '''\n",
    "    laced = np.empty((in1.shape[0], in1.shape[1]*2, 2), dtype=int)\n",
    "\n",
    "    for i in range(in1.shape[0]):\n",
    "        for j in range(in1.shape[1]):\n",
    "            laced[i, 2*j] = in1[i,j]\n",
    "            laced[i, (2*j)+1] = in2[i,j]\n",
    "\n",
    "    return laced\n",
    "\n",
    "def generate_train_test(train_size, test_size, seed) -> np.ndarray:\n",
    "    '''\n",
    "    Generates the training and testing data given a random seed.\n",
    "\n",
    "    We use one-hot defintiions of:\n",
    "    1 = [0 1], 0 = [1 0]\n",
    "\n",
    "    Returns:\n",
    "    A_train - 2D array where each row is separated digits of 8-bit binary number\n",
    "    B_train - 2D array where each row is separated digits of 8-bit binary number\n",
    "    C_train - 2D array where each row is separated digits of a 16-bit binary number of A*B\n",
    "    A_test - ...\n",
    "    B_test - ...\n",
    "    C_test - ...\n",
    "    '''\n",
    "\n",
    "    total_size = train_size + test_size\n",
    "\n",
    "    # generate the random integers 0-255\n",
    "    np.random.seed(seed)\n",
    "    ints = np.random.randint(0, 256, size=total_size*2)\n",
    "    A = ints.copy()[0:total_size].astype(np.int64)\n",
    "    B = ints.copy()[total_size:].astype(np.int64)\n",
    "    C = A*B.astype(np.int64)\n",
    "\n",
    "    # arrays to hold the binary-representation-strings of the converted integers\n",
    "    Astr, Bstr, Cstr = np.empty(len(A), dtype=object), np.empty(len(A), dtype=object), np.empty(len(A), dtype=object)\n",
    "\n",
    "    for i in range(len(A)):\n",
    "        Astr[i] = np.binary_repr(A[i], width=8)\n",
    "        Bstr[i] = np.binary_repr(B[i], width=8)\n",
    "        Cstr[i] = np.binary_repr(C[i], width=16)\n",
    "\n",
    "    # arrays to hold the 0's and 1's that come from splitting the strings of binary-representation\n",
    "    Aarr, Barr, Carr = np.empty((len(A),8,2), dtype=object), np.empty((len(A),8,2), dtype=object), np.empty((len(A),16, 2), dtype=object)\n",
    "\n",
    "    for i in range(len(A)):\n",
    "        for j, binary in enumerate(np.flip(np.array(re.split('', Astr[i])[1:-1], dtype=int))):\n",
    "            Aarr[i, j] = [1, 0] if binary == 0 else [0, 1]\n",
    "\n",
    "        for j, binary in enumerate(np.flip(np.array(re.split('', Bstr[i])[1:-1], dtype=int))):\n",
    "            Barr[i, j] = [1, 0] if binary == 0 else [0, 1]\n",
    "\n",
    "        for j, binary in enumerate(np.flip(np.array(re.split('', Cstr[i])[1:-1], dtype=int))):\n",
    "            Carr[i, j] = [1, 0] if binary == 0 else [0, 1]\n",
    "    \n",
    "    return Aarr[0:train_size], Barr[0:train_size], Carr[0:train_size], Aarr[train_size:], Barr[train_size:], Carr[train_size:]\n",
    "\n",
    "train_size = 10_000\n",
    "test_size = 2_000\n",
    "\n",
    "atr,btr,ctr,ate,bte,cte = generate_train_test(train_size, test_size, 12345)\n",
    "# print(atr[0])\n",
    "print(btr[0])\n",
    "abtr, batr = interlace(atr, btr), interlace(btr, atr)\n",
    "abte, bate = interlace(ate, bte), interlace(bte, ate)\n"
   ]
  },
  {
   "cell_type": "code",
   "execution_count": 21,
   "metadata": {},
   "outputs": [
    {
     "data": {
      "text/plain": [
       "(10000, 16, 2)"
      ]
     },
     "execution_count": 21,
     "metadata": {},
     "output_type": "execute_result"
    }
   ],
   "source": [
    "ctr.shape"
   ]
  },
  {
   "cell_type": "markdown",
   "metadata": {},
   "source": [
    "## Model"
   ]
  },
  {
   "cell_type": "code",
   "execution_count": 22,
   "metadata": {},
   "outputs": [],
   "source": [
    "import torch\n",
    "import torch.nn as nn\n",
    "import torch.nn.functional as func\n",
    "\n",
    "class Net(nn.Module):\n",
    "    def __init__(self):\n",
    "        super().__init__()\n",
    "\n",
    "        self.lstm = nn.LSTM(2, 256, num_layers=2, batch_first=True) # input size is either 2 or 1?\n",
    "        self.linlayer1 = nn.Linear(256, 512) # go from hidden layer size of lstm to reduced size\n",
    "        self.linLayer2 = nn.Linear(512, 128)\n",
    "        self.linLayer3 = nn.Linear(128, 32) # output of 32 which gets reshaped\n",
    "        self.softmax = nn.Softmax(dim=2)\n",
    "\n",
    "    def forward(self, x, input_size):\n",
    "        outputs, (hidden_state, cell_state) = self.lstm(x)\n",
    "        print('outputs shape:', outputs.shape)\n",
    "        print('hidden_state shape:', hidden_state.shape)\n",
    "\n",
    "        # outputs, hidden_state = self.lstm(x)\n",
    "        output = self.linlayer1(hidden_state[-1])\n",
    "        output = torch.sigmoid(output)\n",
    "\n",
    "        output = self.linLayer2(output)\n",
    "        output = torch.sigmoid(output)\n",
    "\n",
    "        output = self.linLayer3(output)\n",
    "        output = torch.sigmoid(output)\n",
    "\n",
    "        output = torch.reshape(output, (input_size, 16, 2))\n",
    "        return self.softmax(output)\n",
    "\n",
    "    def reset(self):\n",
    "        self.lstm.reset_parameters()\n",
    "        self.linlayer1.reset_parameters()\n",
    "        self.linLayer2.reset_parameters()\n",
    "\n",
    "model = Net().to(torch.device(\"cuda\"))"
   ]
  },
  {
   "cell_type": "code",
   "execution_count": 23,
   "metadata": {},
   "outputs": [
    {
     "name": "stdout",
     "output_type": "stream",
     "text": [
      "outputs shape: torch.Size([10000, 16, 256])\n",
      "hidden_state shape: torch.Size([2, 10000, 256])\n",
      "torch.Size([10000, 16, 2]) torch.Size([10000, 16, 2])\n",
      "outputs shape: torch.Size([10000, 16, 256])\n",
      "hidden_state shape: torch.Size([2, 10000, 256])\n",
      "tensor([[0.4944, 0.5056],\n",
      "        [0.4529, 0.5471],\n",
      "        [0.5039, 0.4961],\n",
      "        [0.4883, 0.5117],\n",
      "        [0.5179, 0.4821],\n",
      "        [0.4914, 0.5086],\n",
      "        [0.5208, 0.4792],\n",
      "        [0.5116, 0.4884],\n",
      "        [0.4951, 0.5049],\n",
      "        [0.5015, 0.4985],\n",
      "        [0.4566, 0.5434],\n",
      "        [0.5422, 0.4578],\n",
      "        [0.4703, 0.5297],\n",
      "        [0.4915, 0.5085],\n",
      "        [0.4953, 0.5047],\n",
      "        [0.4996, 0.5004]], device='cuda:0', grad_fn=<SelectBackward0>)\n",
      "tensor([[1., 0.],\n",
      "        [0., 1.],\n",
      "        [1., 0.],\n",
      "        [0., 1.],\n",
      "        [0., 1.],\n",
      "        [0., 1.],\n",
      "        [1., 0.],\n",
      "        [0., 1.],\n",
      "        [0., 1.],\n",
      "        [0., 1.],\n",
      "        [0., 1.],\n",
      "        [1., 0.],\n",
      "        [1., 0.],\n",
      "        [0., 1.],\n",
      "        [1., 0.],\n",
      "        [1., 0.]], device='cuda:0')\n"
     ]
    },
    {
     "name": "stderr",
     "output_type": "stream",
     "text": [
      "d:\\Desktop\\School\\School Docs\\PHYS 449\\PHYS449_repo\\.venv\\lib\\site-packages\\torch\\nn\\functional.py:1967: UserWarning: nn.functional.sigmoid is deprecated. Use torch.sigmoid instead.\n",
      "  warnings.warn(\"nn.functional.sigmoid is deprecated. Use torch.sigmoid instead.\")\n"
     ]
    }
   ],
   "source": [
    "import torch.optim as optim\n",
    "learning_rate = 0.00001\n",
    "optimizer = optim.SGD(model.parameters(), lr=learning_rate)\n",
    "\n",
    "abtr = torch.from_numpy(abtr).type(torch.float).to(\"cuda\")\n",
    "batr = torch.from_numpy(batr).type(torch.float).to(\"cuda\")\n",
    "abte = torch.from_numpy(abte).type(torch.float).to(\"cuda\")\n",
    "bate = torch.from_numpy(bate).type(torch.float).to(\"cuda\")\n",
    "ctr = torch.from_numpy(ctr.astype(int)).type(torch.float).to(\"cuda\")\n",
    "cte = torch.from_numpy(cte.astype(int)).type(torch.float).to(\"cuda\")\n",
    "\n",
    "print(model.forward(abtr, train_size).shape, ctr.shape)\n",
    "print(model.forward(abtr, train_size)[0])\n",
    "# print(ctr[0])"
   ]
  },
  {
   "cell_type": "code",
   "execution_count": 24,
   "metadata": {},
   "outputs": [
    {
     "name": "stdout",
     "output_type": "stream",
     "text": [
      "outputs shape: torch.Size([10000, 16, 256])\n",
      "hidden_state shape: torch.Size([2, 10000, 256])\n",
      "outputs shape: torch.Size([2000, 16, 256])\n",
      "hidden_state shape: torch.Size([2, 2000, 256])\n",
      "outputs shape: torch.Size([10000, 16, 256])\n",
      "hidden_state shape: torch.Size([2, 10000, 256])\n",
      "outputs shape: torch.Size([2000, 16, 256])\n",
      "hidden_state shape: torch.Size([2, 2000, 256])\n",
      "outputs shape: torch.Size([10000, 16, 256])\n",
      "hidden_state shape: torch.Size([2, 10000, 256])\n",
      "outputs shape: torch.Size([2000, 16, 256])\n",
      "hidden_state shape: torch.Size([2, 2000, 256])\n",
      "outputs shape: torch.Size([10000, 16, 256])\n",
      "hidden_state shape: torch.Size([2, 10000, 256])\n",
      "outputs shape: torch.Size([2000, 16, 256])\n",
      "hidden_state shape: torch.Size([2, 2000, 256])\n",
      "outputs shape: torch.Size([10000, 16, 256])\n",
      "hidden_state shape: torch.Size([2, 10000, 256])\n",
      "outputs shape: torch.Size([2000, 16, 256])\n",
      "hidden_state shape: torch.Size([2, 2000, 256])\n",
      "outputs shape: torch.Size([10000, 16, 256])\n",
      "hidden_state shape: torch.Size([2, 10000, 256])\n",
      "outputs shape: torch.Size([2000, 16, 256])\n",
      "hidden_state shape: torch.Size([2, 2000, 256])\n",
      "outputs shape: torch.Size([10000, 16, 256])\n",
      "hidden_state shape: torch.Size([2, 10000, 256])\n",
      "outputs shape: torch.Size([2000, 16, 256])\n",
      "hidden_state shape: torch.Size([2, 2000, 256])\n",
      "outputs shape: torch.Size([10000, 16, 256])\n",
      "hidden_state shape: torch.Size([2, 10000, 256])\n",
      "outputs shape: torch.Size([2000, 16, 256])\n",
      "hidden_state shape: torch.Size([2, 2000, 256])\n",
      "outputs shape: torch.Size([10000, 16, 256])\n",
      "hidden_state shape: torch.Size([2, 10000, 256])\n"
     ]
    },
    {
     "ename": "KeyboardInterrupt",
     "evalue": "",
     "output_type": "error",
     "traceback": [
      "\u001b[1;31m---------------------------------------------------------------------------\u001b[0m",
      "\u001b[1;31mKeyboardInterrupt\u001b[0m                         Traceback (most recent call last)",
      "Cell \u001b[1;32mIn [24], line 25\u001b[0m\n\u001b[0;32m     23\u001b[0m obj_val\u001b[39m.\u001b[39mbackward()\n\u001b[0;32m     24\u001b[0m optimizer\u001b[39m.\u001b[39mstep()\n\u001b[1;32m---> 25\u001b[0m obj_vals\u001b[39m.\u001b[39mappend(obj_val\u001b[39m.\u001b[39;49mitem())\n\u001b[0;32m     27\u001b[0m \u001b[39mif\u001b[39;00m (epoch\u001b[39m+\u001b[39m\u001b[39m1\u001b[39m) \u001b[39m%\u001b[39m display_epochs \u001b[39m==\u001b[39m \u001b[39m0\u001b[39m:\n\u001b[0;32m     28\u001b[0m     \u001b[39mprint\u001b[39m (\u001b[39m'\u001b[39m\u001b[39mEpoch [\u001b[39m\u001b[39m{}\u001b[39;00m\u001b[39m/\u001b[39m\u001b[39m{}\u001b[39;00m\u001b[39m]\u001b[39m\u001b[39m\\t\u001b[39;00m\u001b[39m Training Loss: \u001b[39m\u001b[39m{:.6f}\u001b[39;00m\u001b[39m'\u001b[39m\u001b[39m.\u001b[39mformat(epoch\u001b[39m+\u001b[39m\u001b[39m1\u001b[39m, num_epochs, obj_val\u001b[39m.\u001b[39mitem()))\n",
      "\u001b[1;31mKeyboardInterrupt\u001b[0m: "
     ]
    }
   ],
   "source": [
    "num_epochs = 500\n",
    "display_epochs = 50\n",
    "\n",
    "\n",
    "\n",
    "obj_vals= []\n",
    "cross_vals= []\n",
    "\n",
    "model.reset() # reset your parameters\n",
    "loss = nn.CrossEntropyLoss()\n",
    "\n",
    "# def closure():\n",
    "#     optimizer.zero_grad()\n",
    "#     objective = loss(model.forward(abtr), ctr, abtr.shape, ctr.shape)\n",
    "#     objective.backward()\n",
    "#     return objective\n",
    "\n",
    "for epoch in range(num_epochs):\n",
    "\n",
    "    obj_val = loss(model.forward(abtr, train_size), ctr)\n",
    "    \n",
    "    optimizer.zero_grad()\n",
    "    obj_val.backward()\n",
    "    optimizer.step()\n",
    "    obj_vals.append(obj_val.item())\n",
    "\n",
    "    if (epoch+1) % display_epochs == 0:\n",
    "        print ('Epoch [{}/{}]\\t Training Loss: {:.6f}'.format(epoch+1, num_epochs, obj_val.item()))\n",
    "            \n",
    "    # as it trains check how well it tests\n",
    "    with torch.no_grad(): \n",
    "        # don't track calculations in the following scope for the purposes of gradients\n",
    "        cross_val = loss(model.forward(abte, test_size), cte)\n",
    "        cross_vals.append(cross_val)\n",
    "\n",
    "    if (epoch+1) % display_epochs == 0:\n",
    "        print ('Epoch [{}/{}]\\t Test Loss: {:.6f}'.format(epoch+1, num_epochs, cross_val.item()))\n",
    "        \n",
    "print('Final training loss: {:.4f}'.format(obj_vals[-1]))\n",
    "print('Final test loss: {:.4f}'.format(cross_vals[-1]))"
   ]
  },
  {
   "cell_type": "code",
   "execution_count": null,
   "metadata": {},
   "outputs": [
    {
     "data": {
      "text/plain": [
       "tensor([[1.0941e-12, 1.0000e+00],\n",
       "        [1.0000e+00, 0.0000e+00],\n",
       "        [0.0000e+00, 1.0000e+00],\n",
       "        [1.0000e+00, 5.3380e-24],\n",
       "        [1.0000e+00, 1.8675e-24],\n",
       "        [9.5260e-32, 1.0000e+00],\n",
       "        [1.0000e+00, 2.0879e-43],\n",
       "        [1.0483e-29, 1.0000e+00],\n",
       "        [0.0000e+00, 1.0000e+00],\n",
       "        [1.0000e+00, 5.6345e-11],\n",
       "        [1.9031e-18, 1.0000e+00],\n",
       "        [0.0000e+00, 1.0000e+00],\n",
       "        [0.0000e+00, 1.0000e+00],\n",
       "        [0.0000e+00, 1.0000e+00],\n",
       "        [0.0000e+00, 1.0000e+00],\n",
       "        [1.0000e+00, 1.7472e-11]], device='cuda:0', grad_fn=<SelectBackward0>)"
      ]
     },
     "execution_count": 9,
     "metadata": {},
     "output_type": "execute_result"
    }
   ],
   "source": [
    "model.forward(abtr, train_size)[1]"
   ]
  },
  {
   "cell_type": "code",
   "execution_count": null,
   "metadata": {},
   "outputs": [
    {
     "data": {
      "text/plain": [
       "tensor([[1., 0.],\n",
       "        [1., 0.],\n",
       "        [0., 1.],\n",
       "        [0., 1.],\n",
       "        [1., 0.],\n",
       "        [1., 0.],\n",
       "        [1., 0.],\n",
       "        [1., 0.],\n",
       "        [0., 1.],\n",
       "        [1., 0.],\n",
       "        [1., 0.],\n",
       "        [0., 1.],\n",
       "        [0., 1.],\n",
       "        [1., 0.],\n",
       "        [1., 0.],\n",
       "        [1., 0.]], device='cuda:0')"
      ]
     },
     "execution_count": 10,
     "metadata": {},
     "output_type": "execute_result"
    }
   ],
   "source": [
    "ctr[1]"
   ]
  },
  {
   "cell_type": "code",
   "execution_count": null,
   "metadata": {},
   "outputs": [],
   "source": []
  }
 ],
 "metadata": {
  "kernelspec": {
   "display_name": "Python 3.9.13 ('.venv': venv)",
   "language": "python",
   "name": "python3"
  },
  "language_info": {
   "codemirror_mode": {
    "name": "ipython",
    "version": 3
   },
   "file_extension": ".py",
   "mimetype": "text/x-python",
   "name": "python",
   "nbconvert_exporter": "python",
   "pygments_lexer": "ipython3",
   "version": "3.9.13"
  },
  "orig_nbformat": 4,
  "vscode": {
   "interpreter": {
    "hash": "42d2056ab37e996ff35e746a5efbc6c2c6f0fb4a0a2b12ddc8157cd8944c4c9f"
   }
  }
 },
 "nbformat": 4,
 "nbformat_minor": 2
}
