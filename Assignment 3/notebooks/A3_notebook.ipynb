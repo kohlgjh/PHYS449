{
 "cells": [
  {
   "cell_type": "markdown",
   "metadata": {},
   "source": [
    "## Data Generation\n",
    "Generate data by generating random integers, converting to binary representation, then dumping into array"
   ]
  },
  {
   "cell_type": "code",
   "execution_count": 83,
   "metadata": {},
   "outputs": [
    {
     "name": "stdout",
     "output_type": "stream",
     "text": [
      "226\n",
      "11100010\n",
      "[0 1 0 0 0 1 1 1]\n"
     ]
    }
   ],
   "source": [
    "import numpy as np\n",
    "import re\n",
    "np.random.seed(12345)\n",
    "intrep = np.random.randint(0, 256)\n",
    "print(intrep)\n",
    "binrep = np.binary_repr(intrep, width=8)\n",
    "print(binrep)\n",
    "arrep = np.flip(np.array(re.split('',binrep)[1:-1], dtype=int))\n",
    "print(arrep)"
   ]
  },
  {
   "cell_type": "code",
   "execution_count": 130,
   "metadata": {},
   "outputs": [
    {
     "name": "stdout",
     "output_type": "stream",
     "text": [
      "['11100010' '11100101' '00011101' ... '10001001' '11011001' '11110101']\n",
      "[[0 1 0 ... 1 1 1]\n",
      " [1 0 1 ... 1 1 1]\n",
      " [1 0 1 ... 0 0 0]\n",
      " ...\n",
      " [1 0 0 ... 0 0 1]\n",
      " [1 0 0 ... 0 1 1]\n",
      " [1 0 1 ... 1 1 1]]\n"
     ]
    }
   ],
   "source": [
    "import numpy as np\n",
    "import re\n",
    "np.random.seed(12345)\n",
    "\n",
    "ints = np.random.randint(0, 256, size=100_000)\n",
    "A = ints.copy()[0:50_000].astype(np.int64)\n",
    "B = ints.copy()[50_000:].astype(np.int64)\n",
    "C = A*B.astype(np.int64)\n",
    "\n",
    "Astr, Bstr, Cstr = np.empty(len(A), dtype=object), np.empty(len(A), dtype=object), np.empty(len(A), dtype=object)\n",
    "\n",
    "for i in range(len(A)):\n",
    "    Astr[i] = np.binary_repr(A[i], width=8)\n",
    "    Bstr[i] = np.binary_repr(B[i], width=8)\n",
    "    Cstr[i] = np.binary_repr(C[i], width=16)\n",
    "print(Astr)\n",
    "\n",
    "Aarr, Barr, Carr = np.empty((len(A),8), dtype=object), np.empty((len(A),8), dtype=object), np.empty((len(A),16), dtype=object)\n",
    "\n",
    "for i in range(len(A)):\n",
    "    Aarr[i] = np.flip(np.array(re.split('', Astr[i])[1:-1], dtype=int))\n",
    "    Barr[i] = np.flip(np.array(re.split('', Bstr[i])[1:-1], dtype=int))\n",
    "    Carr[i] = np.flip(np.array(re.split('', Cstr[i])[1:-1], dtype=int))\n",
    "print(Aarr)"
   ]
  },
  {
   "cell_type": "code",
   "execution_count": null,
   "metadata": {},
   "outputs": [],
   "source": []
  }
 ],
 "metadata": {
  "kernelspec": {
   "display_name": "Python 3.9.13 ('.venv': venv)",
   "language": "python",
   "name": "python3"
  },
  "language_info": {
   "codemirror_mode": {
    "name": "ipython",
    "version": 3
   },
   "file_extension": ".py",
   "mimetype": "text/x-python",
   "name": "python",
   "nbconvert_exporter": "python",
   "pygments_lexer": "ipython3",
   "version": "3.9.13"
  },
  "orig_nbformat": 4,
  "vscode": {
   "interpreter": {
    "hash": "42d2056ab37e996ff35e746a5efbc6c2c6f0fb4a0a2b12ddc8157cd8944c4c9f"
   }
  }
 },
 "nbformat": 4,
 "nbformat_minor": 2
}
