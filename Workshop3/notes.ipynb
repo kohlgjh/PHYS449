{
 "cells": [
  {
   "cell_type": "markdown",
   "metadata": {},
   "source": [
    "## Github tutorial stuff\n",
    "\n",
    "`git push -u origin main` - the -u makes things trackable I guess. Do this when pushing to origin initially and then on branches too.\n",
    "\n",
    "`git branch name` and then delete through `git branch -d name`\n",
    "\n",
    "Switching branches through `git checkout branch_name` - `git status` to double check you're on it.\n",
    "\n",
    "pushing local branch to remote through `git branch -u origin branch_name` which means that the branch is set up to track 'main'. You need to do this. `git push -u origin branch_name`\n",
    "\n",
    "Add all through `git add -A`\n",
    "\n",
    "Push branch to orgin/main through `git push -u origin branch_name`\n",
    "\n",
    "Before merging or rebasing you want to be fully up to date on main first. You have to go into main, then merge your branch into it, NOT vice-versa.\n",
    "\n",
    "`git merge branch_name`\n",
    "\n",
    "You can get out of merge by `git merge --abort` \n",
    "\n",
    "After merging you need to push the merge, this is because the merge is a commit unto itself.\n",
    "\n",
    "`git branch -a` let's you see all brnaches. Once merged it is good practice to delete branches\n",
    "\n",
    "\n",
    "\n",
    "To rebase you need to be on the branch itself, unlink merging:\n",
    "\n",
    "`git rebase main`\n",
    "\n",
    "`git checkout main`\n",
    "\n",
    "`git rebase branch_name` \n",
    "\n",
    "\n",
    "Conflicts:\n",
    "current change: \n",
    "incoming change:\n",
    "\n",
    "After addressing conflict you then have to add and commit again.\n",
    "\n",
    "When merging you can \"squash\" `--squash` that combines all commits on your branch into one single commit for the merge, instead of trying to interlace all the little commits."
   ]
  },
  {
   "cell_type": "code",
   "execution_count": null,
   "metadata": {},
   "outputs": [],
   "source": []
  }
 ],
 "metadata": {
  "kernelspec": {
   "display_name": "Python 3.9.13 ('.venv': venv)",
   "language": "python",
   "name": "python3"
  },
  "language_info": {
   "name": "python",
   "version": "3.9.13"
  },
  "orig_nbformat": 4,
  "vscode": {
   "interpreter": {
    "hash": "5936b05b2f6d421ee829c4f37ac1eb5ab64daab4b03f50bfc2f667fe1fc141e3"
   }
  }
 },
 "nbformat": 4,
 "nbformat_minor": 2
}
