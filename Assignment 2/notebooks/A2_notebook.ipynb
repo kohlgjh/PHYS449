{
 "cells": [
  {
   "cell_type": "code",
   "execution_count": 493,
   "metadata": {},
   "outputs": [
    {
     "name": "stdout",
     "output_type": "stream",
     "text": [
      "[0.00000 2.00000 1.00000 ... 4.00000 3.00000 4.00000]\n",
      "[[0.00000 0.00000 0.00000 ... 0.00000 0.00000 0.00000]\n",
      " [0.00000 0.00000 0.00000 ... 0.00000 0.00000 0.00000]\n",
      " [0.00000 0.00000 0.00000 ... 0.00000 0.00000 0.00000]\n",
      " ...\n",
      " [0.00000 0.00000 0.00000 ... 0.00000 0.00000 0.00000]\n",
      " [0.00000 0.00000 0.00000 ... 0.00000 0.00000 0.00000]\n",
      " [0.00000 0.00000 0.00000 ... 0.00000 0.00000 0.00000]]\n"
     ]
    }
   ],
   "source": [
    "import numpy as np\n",
    "import os\n",
    "\n",
    "dataset = np.loadtxt((os.path.join(os.getcwd(), 'inputs\\even_mnist.csv')), dtype=np.float32)\n",
    "labels = dataset[:,-1]/2\n",
    "data = dataset[:,:-1]\n",
    "print(labels)\n",
    "print(data)"
   ]
  },
  {
   "cell_type": "markdown",
   "metadata": {},
   "source": [
    "Turn labels into vectors [0,0,1,0,0] = 4, [1,0,0,0,0] = 0"
   ]
  },
  {
   "cell_type": "code",
   "execution_count": 494,
   "metadata": {},
   "outputs": [],
   "source": [
    "# label_dict = {0.:np.array([1,0,0,0,0]),\n",
    "#               2.:np.array([0,1,0,0,0]), \n",
    "#               4.:np.array([0,0,1,0,0]), \n",
    "#               6.:np.array([0,0,0,1,0]), \n",
    "#               8.:np.array([0,0,0,0,1]), }\n",
    "# new_labels = np.empty((labels.shape[0], 5))\n",
    "# for i in range(labels.shape[0]):\n",
    "#     new_labels[i,:] = label_dict[labels[i,0]]\n",
    "# labels = new_labels.copy()"
   ]
  },
  {
   "cell_type": "code",
   "execution_count": 495,
   "metadata": {},
   "outputs": [],
   "source": [
    "import torch\n",
    "import torch.nn as nn\n",
    "import torch.nn.functional as func\n"
   ]
  },
  {
   "cell_type": "code",
   "execution_count": 496,
   "metadata": {},
   "outputs": [],
   "source": [
    "# define our network as an object\n",
    "\n",
    "class Net(nn.Module):\n",
    "    def __init__(self):\n",
    "        super().__init__()\n",
    "        # defining our layers\n",
    "        self.fc1 = nn.Linear(196, 784) # Go from input size to 4 * input size \n",
    "        self.fc2 = nn.Linear(784, 40) # Compress down to just 40 neurons\n",
    "        self.fc3 = nn.Linear(40, 5) # final compress from 40 to 5 output options\n",
    "\n",
    "    def forward(self, x): # x is input vector\n",
    "        h1 = func.relu(self.fc1(x)) # relu for layer 1\n",
    "        h2 = func.relu(self.fc2(h1))\n",
    "        y = func.log_softmax(self.fc3(h2), dim=1) # final evaluation done with softmax\n",
    "        return y\n",
    "\n",
    "    def reset(self):\n",
    "        self.fc1.reset_parameters()\n",
    "        self.fc2.reset_parameters()\n",
    "        self.fc3.reset_parameters()"
   ]
  },
  {
   "cell_type": "code",
   "execution_count": 497,
   "metadata": {},
   "outputs": [],
   "source": [
    "model = Net().to(torch.device(\"cpu\"))"
   ]
  },
  {
   "cell_type": "code",
   "execution_count": 498,
   "metadata": {},
   "outputs": [],
   "source": [
    "import torch.optim as optim\n",
    "learning_rate = 0.003"
   ]
  },
  {
   "cell_type": "code",
   "execution_count": 499,
   "metadata": {},
   "outputs": [],
   "source": [
    "optimizer = optim.SGD(model.parameters(), lr=learning_rate)"
   ]
  },
  {
   "cell_type": "markdown",
   "metadata": {},
   "source": [
    "Split data into training and test - 80/20 split"
   ]
  },
  {
   "cell_type": "code",
   "execution_count": 500,
   "metadata": {},
   "outputs": [],
   "source": [
    "num_data = data.shape[0]\n",
    "\n",
    "train_data, test_data = data[:int(num_data*0.80), :], data[int(num_data*0.80):, :]\n",
    "train_labels, test_labels = labels[:int(num_data*0.80)], labels[int(num_data*0.80):]"
   ]
  },
  {
   "cell_type": "markdown",
   "metadata": {},
   "source": [
    "Convert numpy arrays to tensors"
   ]
  },
  {
   "cell_type": "code",
   "execution_count": 501,
   "metadata": {},
   "outputs": [],
   "source": [
    "train_input = torch.from_numpy(train_data.astype(np.float32))\n",
    "train_labels = torch.from_numpy(train_labels.astype(np.float32)).type(torch.LongTensor)\n",
    "test_input = torch.from_numpy(test_data.astype(np.float32))\n",
    "test_labels = torch.from_numpy(test_labels.astype(np.float32)).type(torch.LongTensor)"
   ]
  },
  {
   "cell_type": "code",
   "execution_count": 502,
   "metadata": {},
   "outputs": [
    {
     "data": {
      "text/plain": [
       "torch.Size([23593, 5])"
      ]
     },
     "execution_count": 502,
     "metadata": {},
     "output_type": "execute_result"
    }
   ],
   "source": [
    "model.forward(train_input).size()"
   ]
  },
  {
   "cell_type": "markdown",
   "metadata": {},
   "source": [
    "Defining a loss function"
   ]
  },
  {
   "cell_type": "code",
   "execution_count": 503,
   "metadata": {},
   "outputs": [
    {
     "name": "stdout",
     "output_type": "stream",
     "text": [
      "torch.Size([23593, 5])\n",
      "torch.Size([23593])\n"
     ]
    }
   ],
   "source": [
    "print(model.forward(train_input).size())\n",
    "print(train_labels.size())\n",
    "\n",
    "# loss = func.nll_loss()\n",
    "# loss(model.forward(train_input), train_labels)"
   ]
  },
  {
   "cell_type": "markdown",
   "metadata": {},
   "source": [
    "hyperparameters for epochs and display epochs"
   ]
  },
  {
   "cell_type": "code",
   "execution_count": 504,
   "metadata": {},
   "outputs": [],
   "source": [
    "num_epochs = 2000\n",
    "display_epochs = 100"
   ]
  },
  {
   "cell_type": "markdown",
   "metadata": {},
   "source": [
    "Training and testing in one loop:"
   ]
  },
  {
   "cell_type": "code",
   "execution_count": 505,
   "metadata": {},
   "outputs": [
    {
     "name": "stdout",
     "output_type": "stream",
     "text": [
      "Epoch [100/2000]\t Training Loss: 0.1498\n",
      "Epoch [100/2000]\t Test Loss: 0.1458\n",
      "Epoch [200/2000]\t Training Loss: 0.0996\n",
      "Epoch [200/2000]\t Test Loss: 0.1071\n",
      "Epoch [300/2000]\t Training Loss: 0.0785\n",
      "Epoch [300/2000]\t Test Loss: 0.0923\n",
      "Epoch [400/2000]\t Training Loss: 0.0654\n",
      "Epoch [400/2000]\t Test Loss: 0.0840\n",
      "Epoch [500/2000]\t Training Loss: 0.0562\n",
      "Epoch [500/2000]\t Test Loss: 0.0786\n",
      "Epoch [600/2000]\t Training Loss: 0.0494\n",
      "Epoch [600/2000]\t Test Loss: 0.0749\n",
      "Epoch [700/2000]\t Training Loss: 0.0439\n",
      "Epoch [700/2000]\t Test Loss: 0.0720\n",
      "Epoch [800/2000]\t Training Loss: 0.0394\n",
      "Epoch [800/2000]\t Test Loss: 0.0699\n",
      "Epoch [900/2000]\t Training Loss: 0.0356\n",
      "Epoch [900/2000]\t Test Loss: 0.0683\n",
      "Epoch [1000/2000]\t Training Loss: 0.0324\n",
      "Epoch [1000/2000]\t Test Loss: 0.0670\n",
      "Epoch [1100/2000]\t Training Loss: 0.0296\n",
      "Epoch [1100/2000]\t Test Loss: 0.0660\n",
      "Epoch [1200/2000]\t Training Loss: 0.0271\n",
      "Epoch [1200/2000]\t Test Loss: 0.0651\n",
      "Epoch [1300/2000]\t Training Loss: 0.0249\n",
      "Epoch [1300/2000]\t Test Loss: 0.0644\n",
      "Epoch [1400/2000]\t Training Loss: 0.0229\n",
      "Epoch [1400/2000]\t Test Loss: 0.0638\n",
      "Epoch [1500/2000]\t Training Loss: 0.0211\n",
      "Epoch [1500/2000]\t Test Loss: 0.0634\n",
      "Epoch [1600/2000]\t Training Loss: 0.0195\n",
      "Epoch [1600/2000]\t Test Loss: 0.0631\n",
      "Epoch [1700/2000]\t Training Loss: 0.0180\n",
      "Epoch [1700/2000]\t Test Loss: 0.0629\n",
      "Epoch [1800/2000]\t Training Loss: 0.0167\n",
      "Epoch [1800/2000]\t Test Loss: 0.0627\n",
      "Epoch [1900/2000]\t Training Loss: 0.0155\n",
      "Epoch [1900/2000]\t Test Loss: 0.0626\n",
      "Epoch [2000/2000]\t Training Loss: 0.0145\n",
      "Epoch [2000/2000]\t Test Loss: 0.0626\n",
      "Final training loss: 0.0145\n",
      "Final test loss: 0.0626\n"
     ]
    }
   ],
   "source": [
    "obj_vals= []\n",
    "cross_vals= []\n",
    "\n",
    "model.reset() # reset your parameters\n",
    "\n",
    "for epoch in range(num_epochs):\n",
    "\n",
    "    obj_val = func.nll_loss(model.forward(train_input), train_labels)\n",
    "    \n",
    "    optimizer.zero_grad()\n",
    "    obj_val.backward()\n",
    "    optimizer.step()\n",
    "    obj_vals.append(obj_val.item())\n",
    "\n",
    "    if (epoch+1) % display_epochs == 0:\n",
    "        print ('Epoch [{}/{}]\\t Training Loss: {:.4f}'.format(epoch+1, num_epochs, obj_val.item()))\n",
    "            \n",
    "    # as it trains check how well it tests\n",
    "    with torch.no_grad(): \n",
    "        # don't track calculations in the following scope for the purposes of gradients\n",
    "        cross_val = func.nll_loss(model.forward(test_input), test_labels)\n",
    "        cross_vals.append(cross_val)\n",
    "\n",
    "    if (epoch+1) % display_epochs == 0:\n",
    "        print ('Epoch [{}/{}]\\t Test Loss: {:.4f}'.format(epoch+1, num_epochs, cross_val.item()))\n",
    "        \n",
    "print('Final training loss: {:.4f}'.format(obj_vals[-1]))\n",
    "print('Final test loss: {:.4f}'.format(cross_vals[-1]))"
   ]
  },
  {
   "cell_type": "code",
   "execution_count": 506,
   "metadata": {},
   "outputs": [
    {
     "data": {
      "image/png": "[encoded data removed]",
      "text/plain": [
       "<Figure size 640x480 with 1 Axes>"
      ]
     },
     "metadata": {},
     "output_type": "display_data"
    }
   ],
   "source": [
    "import matplotlib.pyplot as plt\n",
    "plt.plot(range(num_epochs), obj_vals, 'r', label='Training Loss')\n",
    "plt.plot(range(num_epochs), cross_vals, 'b', label=\"Test Loss\")\n",
    "plt.plot()\n",
    "plt.ylim(0,1)\n",
    "plt.grid(alpha=0.3)\n",
    "plt.legend()\n",
    "plt.show()"
   ]
  },
  {
   "cell_type": "markdown",
   "metadata": {},
   "source": [
    "Stop all gradient calculations when doing testing to be faster"
   ]
  },
  {
   "cell_type": "code",
   "execution_count": 509,
   "metadata": {},
   "outputs": [
    {
     "name": "stdout",
     "output_type": "stream",
     "text": [
      "tensor(0.0638)\n",
      "[[0.00000 0.00000 0.00000 1.00000 0.00000]\n",
      " [0.00000 0.00000 0.00000 1.00000 0.00000]\n",
      " [0.00001 0.00000 0.98261 0.00025 0.01713]\n",
      " ...\n",
      " [0.00000 0.00004 0.00000 0.00000 0.99996]\n",
      " [0.00000 0.00000 0.00000 1.00000 0.00000]\n",
      " [0.00000 0.00000 0.00000 0.00000 1.00000]]\n"
     ]
    }
   ],
   "source": [
    "np.set_printoptions(formatter={'float': lambda x: \"{0:0.5f}\".format(x)})\n",
    "print(cross_val)\n",
    "print(np.exp(model.forward(test_input).detach().numpy()))"
   ]
  },
  {
   "cell_type": "markdown",
   "metadata": {},
   "source": [
    "The percentages visible above are the confidence in each of the classification. With classifications of : [0,2,4,6,8]"
   ]
  },
  {
   "cell_type": "code",
   "execution_count": 510,
   "metadata": {},
   "outputs": [
    {
     "name": "stdout",
     "output_type": "stream",
     "text": [
      "tensor([6, 6, 4,  ..., 8, 6, 8])\n"
     ]
    }
   ],
   "source": [
    "print(test_labels*2)"
   ]
  },
  {
   "cell_type": "markdown",
   "metadata": {},
   "source": [
    "We see that it matches the test labels in the above cell.\n",
    "\n",
    "If instead we have 6 output neurons then one of them is just 0 always because there is only 5 different labels not 6."
   ]
  },
  {
   "cell_type": "markdown",
   "metadata": {},
   "source": [
    "Generating a test accuracy report: average over all predictions, as well as if each prediction is right."
   ]
  },
  {
   "cell_type": "code",
   "execution_count": 513,
   "metadata": {},
   "outputs": [
    {
     "data": {
      "text/plain": [
       "array([[6.00000, 1.00000],\n",
       "       [6.00000, 1.00000],\n",
       "       [4.00000, 0.98261],\n",
       "       ...,\n",
       "       [8.00000, 0.99996],\n",
       "       [6.00000, 1.00000],\n",
       "       [8.00000, 1.00000]])"
      ]
     },
     "execution_count": 513,
     "metadata": {},
     "output_type": "execute_result"
    }
   ],
   "source": [
    "results = np.exp(model.forward(test_input).detach().numpy())\n",
    "\n",
    "eval = np.empty((results.shape[0], 2))\n",
    "for i, result in enumerate(results):\n",
    "    eval[i, 0] = np.argmax(result)*2\n",
    "    eval[i, 1] = np.max(result)\n",
    "\n",
    "eval"
   ]
  },
  {
   "cell_type": "code",
   "execution_count": 520,
   "metadata": {},
   "outputs": [
    {
     "name": "stdout",
     "output_type": "stream",
     "text": [
      "prediction accuracy: 98.4%\n"
     ]
    }
   ],
   "source": [
    "sum = 0\n",
    "for result, label in zip(eval[:,0].astype(int), test_labels.detach().numpy()*2):\n",
    "    if result != label:\n",
    "        sum += 1\n",
    "        \n",
    "\n",
    "print(f\"prediction accuracy: {(1-sum/eval.shape[0])*100:.1f}%\")"
   ]
  },
  {
   "cell_type": "code",
   "execution_count": null,
   "metadata": {},
   "outputs": [],
   "source": []
  }
 ],
 "metadata": {
  "kernelspec": {
   "display_name": "Python 3.9.13 64-bit",
   "language": "python",
   "name": "python3"
  },
  "language_info": {
   "codemirror_mode": {
    "name": "ipython",
    "version": 3
   },
   "file_extension": ".py",
   "mimetype": "text/x-python",
   "name": "python",
   "nbconvert_exporter": "python",
   "pygments_lexer": "ipython3",
   "version": "3.9.13"
  },
  "orig_nbformat": 4,
  "vscode": {
   "interpreter": {
    "hash": "78e2a308cdc7982054a9e70b83c0641dbe1ebea9c77401bc1e4b897f804e502f"
   }
  }
 },
 "nbformat": 4,
 "nbformat_minor": 2
}
